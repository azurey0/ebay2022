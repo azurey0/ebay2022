{
 "cells": [
  {
   "cell_type": "code",
   "execution_count": 13,
   "id": "7fc92958",
   "metadata": {},
   "outputs": [],
   "source": [
    "import pandas as pd\n",
    "from datetime import datetime, timedelta"
   ]
  },
  {
   "cell_type": "code",
   "execution_count": 2,
   "id": "34996c86",
   "metadata": {},
   "outputs": [],
   "source": [
    "quiz_set = pd.read_csv('quiz.tsv', sep='\\t')"
   ]
  },
  {
   "cell_type": "code",
   "execution_count": 3,
   "id": "2accd1dd",
   "metadata": {},
   "outputs": [
    {
     "data": {
      "text/plain": [
       "(2500000, 19)"
      ]
     },
     "execution_count": 3,
     "metadata": {},
     "output_type": "execute_result"
    }
   ],
   "source": [
    "quiz_set.shape"
   ]
  },
  {
   "cell_type": "code",
   "execution_count": 6,
   "id": "2cb9e4cf",
   "metadata": {},
   "outputs": [],
   "source": [
    "res_set = quiz_set[['record_number', 'acceptance_scan_timestamp']]"
   ]
  },
  {
   "cell_type": "code",
   "execution_count": 7,
   "id": "333e2a2e",
   "metadata": {},
   "outputs": [
    {
     "data": {
      "text/html": [
       "<div>\n",
       "<style scoped>\n",
       "    .dataframe tbody tr th:only-of-type {\n",
       "        vertical-align: middle;\n",
       "    }\n",
       "\n",
       "    .dataframe tbody tr th {\n",
       "        vertical-align: top;\n",
       "    }\n",
       "\n",
       "    .dataframe thead th {\n",
       "        text-align: right;\n",
       "    }\n",
       "</style>\n",
       "<table border=\"1\" class=\"dataframe\">\n",
       "  <thead>\n",
       "    <tr style=\"text-align: right;\">\n",
       "      <th></th>\n",
       "      <th>record_number</th>\n",
       "      <th>acceptance_scan_timestamp</th>\n",
       "    </tr>\n",
       "  </thead>\n",
       "  <tbody>\n",
       "    <tr>\n",
       "      <th>0</th>\n",
       "      <td>15000001</td>\n",
       "      <td>2019-11-15 05:11:00.000-07:00</td>\n",
       "    </tr>\n",
       "    <tr>\n",
       "      <th>1</th>\n",
       "      <td>15000002</td>\n",
       "      <td>2019-11-28 02:03:00.000-05:00</td>\n",
       "    </tr>\n",
       "    <tr>\n",
       "      <th>2</th>\n",
       "      <td>15000003</td>\n",
       "      <td>2019-12-03 00:02:00.000-08:00</td>\n",
       "    </tr>\n",
       "    <tr>\n",
       "      <th>3</th>\n",
       "      <td>15000004</td>\n",
       "      <td>2019-12-14 19:56:00.000-05:00</td>\n",
       "    </tr>\n",
       "    <tr>\n",
       "      <th>4</th>\n",
       "      <td>15000005</td>\n",
       "      <td>2019-12-19 14:30:00.000-08:00</td>\n",
       "    </tr>\n",
       "  </tbody>\n",
       "</table>\n",
       "</div>"
      ],
      "text/plain": [
       "   record_number      acceptance_scan_timestamp\n",
       "0       15000001  2019-11-15 05:11:00.000-07:00\n",
       "1       15000002  2019-11-28 02:03:00.000-05:00\n",
       "2       15000003  2019-12-03 00:02:00.000-08:00\n",
       "3       15000004  2019-12-14 19:56:00.000-05:00\n",
       "4       15000005  2019-12-19 14:30:00.000-08:00"
      ]
     },
     "execution_count": 7,
     "metadata": {},
     "output_type": "execute_result"
    }
   ],
   "source": [
    "res_set[:5]"
   ]
  },
  {
   "cell_type": "code",
   "execution_count": 12,
   "id": "a56b05f9",
   "metadata": {},
   "outputs": [
    {
     "name": "stderr",
     "output_type": "stream",
     "text": [
      "<ipython-input-12-9ef793239ede>:1: SettingWithCopyWarning: \n",
      "A value is trying to be set on a copy of a slice from a DataFrame.\n",
      "Try using .loc[row_indexer,col_indexer] = value instead\n",
      "\n",
      "See the caveats in the documentation: https://pandas.pydata.org/pandas-docs/stable/user_guide/indexing.html#returning-a-view-versus-a-copy\n",
      "  res_set['deliver_day'] = 4\n"
     ]
    }
   ],
   "source": [
    "res_set['deliver_day'] = 4"
   ]
  },
  {
   "cell_type": "code",
   "execution_count": 11,
   "id": "956ad5a8",
   "metadata": {},
   "outputs": [
    {
     "data": {
      "text/html": [
       "<div>\n",
       "<style scoped>\n",
       "    .dataframe tbody tr th:only-of-type {\n",
       "        vertical-align: middle;\n",
       "    }\n",
       "\n",
       "    .dataframe tbody tr th {\n",
       "        vertical-align: top;\n",
       "    }\n",
       "\n",
       "    .dataframe thead th {\n",
       "        text-align: right;\n",
       "    }\n",
       "</style>\n",
       "<table border=\"1\" class=\"dataframe\">\n",
       "  <thead>\n",
       "    <tr style=\"text-align: right;\">\n",
       "      <th></th>\n",
       "      <th>record_number</th>\n",
       "      <th>acceptance_scan_timestamp</th>\n",
       "      <th>deliver_day</th>\n",
       "    </tr>\n",
       "  </thead>\n",
       "  <tbody>\n",
       "    <tr>\n",
       "      <th>0</th>\n",
       "      <td>15000001</td>\n",
       "      <td>2019-11-15 05:11:00.000-07:00</td>\n",
       "      <td>4</td>\n",
       "    </tr>\n",
       "    <tr>\n",
       "      <th>1</th>\n",
       "      <td>15000002</td>\n",
       "      <td>2019-11-28 02:03:00.000-05:00</td>\n",
       "      <td>4</td>\n",
       "    </tr>\n",
       "    <tr>\n",
       "      <th>2</th>\n",
       "      <td>15000003</td>\n",
       "      <td>2019-12-03 00:02:00.000-08:00</td>\n",
       "      <td>4</td>\n",
       "    </tr>\n",
       "    <tr>\n",
       "      <th>3</th>\n",
       "      <td>15000004</td>\n",
       "      <td>2019-12-14 19:56:00.000-05:00</td>\n",
       "      <td>4</td>\n",
       "    </tr>\n",
       "    <tr>\n",
       "      <th>4</th>\n",
       "      <td>15000005</td>\n",
       "      <td>2019-12-19 14:30:00.000-08:00</td>\n",
       "      <td>4</td>\n",
       "    </tr>\n",
       "  </tbody>\n",
       "</table>\n",
       "</div>"
      ],
      "text/plain": [
       "   record_number      acceptance_scan_timestamp  deliver_day\n",
       "0       15000001  2019-11-15 05:11:00.000-07:00            4\n",
       "1       15000002  2019-11-28 02:03:00.000-05:00            4\n",
       "2       15000003  2019-12-03 00:02:00.000-08:00            4\n",
       "3       15000004  2019-12-14 19:56:00.000-05:00            4\n",
       "4       15000005  2019-12-19 14:30:00.000-08:00            4"
      ]
     },
     "execution_count": 11,
     "metadata": {},
     "output_type": "execute_result"
    }
   ],
   "source": [
    "res_set[:5]"
   ]
  },
  {
   "cell_type": "code",
   "execution_count": 17,
   "id": "bbb34aaf",
   "metadata": {},
   "outputs": [],
   "source": [
    "def add_func(row):\n",
    "    acct = row['acceptance_scan_timestamp']\n",
    "    dd = row['deliver_day']\n",
    "    cdate = datetime.strptime(acct.split()[0], \"%Y-%m-%d\")\n",
    "    cdate = cdate + timedelta(days=dd)\n",
    "    return cdate.strftime(\"%Y-%m-%d\")"
   ]
  },
  {
   "cell_type": "code",
   "execution_count": 18,
   "id": "4e61b021",
   "metadata": {},
   "outputs": [
    {
     "name": "stderr",
     "output_type": "stream",
     "text": [
      "<ipython-input-18-bd0cf7e72891>:1: SettingWithCopyWarning: \n",
      "A value is trying to be set on a copy of a slice from a DataFrame.\n",
      "Try using .loc[row_indexer,col_indexer] = value instead\n",
      "\n",
      "See the caveats in the documentation: https://pandas.pydata.org/pandas-docs/stable/user_guide/indexing.html#returning-a-view-versus-a-copy\n",
      "  res_set['arrive_date'] = res_set.apply(add_func, axis=1)\n"
     ]
    }
   ],
   "source": [
    "res_set['arrive_date'] = res_set.apply(add_func, axis=1)"
   ]
  },
  {
   "cell_type": "code",
   "execution_count": 21,
   "id": "fbe32dc9",
   "metadata": {},
   "outputs": [
    {
     "data": {
      "text/plain": [
       "0"
      ]
     },
     "execution_count": 21,
     "metadata": {},
     "output_type": "execute_result"
    }
   ],
   "source": [
    "sum(res_set['arrive_date'].isnull())"
   ]
  },
  {
   "cell_type": "code",
   "execution_count": 23,
   "id": "d9d133e8",
   "metadata": {},
   "outputs": [],
   "source": [
    "res_set.drop(columns=['acceptance_scan_timestamp', 'deliver_day']).to_csv('result.tsv', header=None, index=None, sep='\\t')"
   ]
  },
  {
   "cell_type": "code",
   "execution_count": null,
   "id": "d792a673",
   "metadata": {},
   "outputs": [],
   "source": []
  }
 ],
 "metadata": {
  "kernelspec": {
   "display_name": "py38",
   "language": "python",
   "name": "py38"
  },
  "language_info": {
   "codemirror_mode": {
    "name": "ipython",
    "version": 3
   },
   "file_extension": ".py",
   "mimetype": "text/x-python",
   "name": "python",
   "nbconvert_exporter": "python",
   "pygments_lexer": "ipython3",
   "version": "3.8.8"
  }
 },
 "nbformat": 4,
 "nbformat_minor": 5
}
