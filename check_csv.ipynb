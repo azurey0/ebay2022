{
 "cells": [
  {
   "cell_type": "code",
   "execution_count": 1,
   "id": "37bcba0b",
   "metadata": {},
   "outputs": [],
   "source": [
    "import catboost"
   ]
  },
  {
   "cell_type": "code",
   "execution_count": 2,
   "id": "df860b15",
   "metadata": {},
   "outputs": [],
   "source": [
    "import pandas as pd"
   ]
  },
  {
   "cell_type": "code",
   "execution_count": 3,
   "id": "3eb42db1",
   "metadata": {},
   "outputs": [],
   "source": [
    "train_set = pd.read_csv('train.csv', sep='\\t')"
   ]
  },
  {
   "cell_type": "code",
   "execution_count": 4,
   "id": "cb9750be",
   "metadata": {},
   "outputs": [
    {
     "data": {
      "text/html": [
       "<div>\n",
       "<style scoped>\n",
       "    .dataframe tbody tr th:only-of-type {\n",
       "        vertical-align: middle;\n",
       "    }\n",
       "\n",
       "    .dataframe tbody tr th {\n",
       "        vertical-align: top;\n",
       "    }\n",
       "\n",
       "    .dataframe thead th {\n",
       "        text-align: right;\n",
       "    }\n",
       "</style>\n",
       "<table border=\"1\" class=\"dataframe\">\n",
       "  <thead>\n",
       "    <tr style=\"text-align: right;\">\n",
       "      <th></th>\n",
       "      <th>b2c_c2c</th>\n",
       "      <th>seller_id</th>\n",
       "      <th>declared_handling_days</th>\n",
       "      <th>acceptance_scan_timestamp</th>\n",
       "      <th>shipment_method_id</th>\n",
       "      <th>shipping_fee</th>\n",
       "      <th>carrier_min_estimate</th>\n",
       "      <th>carrier_max_estimate</th>\n",
       "      <th>item_zip</th>\n",
       "      <th>buyer_zip</th>\n",
       "      <th>category_id</th>\n",
       "      <th>item_price</th>\n",
       "      <th>quantity</th>\n",
       "      <th>payment_datetime</th>\n",
       "      <th>delivery_date</th>\n",
       "      <th>weight</th>\n",
       "      <th>weight_units</th>\n",
       "      <th>package_size</th>\n",
       "      <th>record_number</th>\n",
       "    </tr>\n",
       "  </thead>\n",
       "  <tbody>\n",
       "    <tr>\n",
       "      <th>0</th>\n",
       "      <td>B2C</td>\n",
       "      <td>25454</td>\n",
       "      <td>3.0</td>\n",
       "      <td>2019-03-26 15:11:00.000-07:00</td>\n",
       "      <td>0</td>\n",
       "      <td>0.0</td>\n",
       "      <td>3</td>\n",
       "      <td>5</td>\n",
       "      <td>97219</td>\n",
       "      <td>49040</td>\n",
       "      <td>13</td>\n",
       "      <td>27.95</td>\n",
       "      <td>1</td>\n",
       "      <td>2019-03-24 03:56:49.000-07:00</td>\n",
       "      <td>2019-03-29</td>\n",
       "      <td>5</td>\n",
       "      <td>1</td>\n",
       "      <td>LETTER</td>\n",
       "      <td>1</td>\n",
       "    </tr>\n",
       "    <tr>\n",
       "      <th>1</th>\n",
       "      <td>C2C</td>\n",
       "      <td>6727381</td>\n",
       "      <td>2.0</td>\n",
       "      <td>2018-06-02 12:53:00.000-07:00</td>\n",
       "      <td>0</td>\n",
       "      <td>3.0</td>\n",
       "      <td>3</td>\n",
       "      <td>5</td>\n",
       "      <td>11415-3528</td>\n",
       "      <td>62521</td>\n",
       "      <td>0</td>\n",
       "      <td>20.50</td>\n",
       "      <td>1</td>\n",
       "      <td>2018-06-01 13:43:54.000-07:00</td>\n",
       "      <td>2018-06-05</td>\n",
       "      <td>0</td>\n",
       "      <td>1</td>\n",
       "      <td>PACKAGE_THICK_ENVELOPE</td>\n",
       "      <td>2</td>\n",
       "    </tr>\n",
       "    <tr>\n",
       "      <th>2</th>\n",
       "      <td>B2C</td>\n",
       "      <td>18507</td>\n",
       "      <td>1.0</td>\n",
       "      <td>2019-01-07 16:22:00.000-05:00</td>\n",
       "      <td>0</td>\n",
       "      <td>4.5</td>\n",
       "      <td>3</td>\n",
       "      <td>5</td>\n",
       "      <td>27292</td>\n",
       "      <td>53010</td>\n",
       "      <td>1</td>\n",
       "      <td>19.90</td>\n",
       "      <td>1</td>\n",
       "      <td>2019-01-06 00:02:00.000-05:00</td>\n",
       "      <td>2019-01-10</td>\n",
       "      <td>9</td>\n",
       "      <td>1</td>\n",
       "      <td>PACKAGE_THICK_ENVELOPE</td>\n",
       "      <td>3</td>\n",
       "    </tr>\n",
       "    <tr>\n",
       "      <th>3</th>\n",
       "      <td>B2C</td>\n",
       "      <td>4677</td>\n",
       "      <td>1.0</td>\n",
       "      <td>2018-12-17 16:56:00.000-08:00</td>\n",
       "      <td>0</td>\n",
       "      <td>0.0</td>\n",
       "      <td>3</td>\n",
       "      <td>5</td>\n",
       "      <td>90703</td>\n",
       "      <td>80022</td>\n",
       "      <td>1</td>\n",
       "      <td>35.50</td>\n",
       "      <td>1</td>\n",
       "      <td>2018-12-16 10:28:28.000-08:00</td>\n",
       "      <td>2018-12-21</td>\n",
       "      <td>8</td>\n",
       "      <td>1</td>\n",
       "      <td>PACKAGE_THICK_ENVELOPE</td>\n",
       "      <td>4</td>\n",
       "    </tr>\n",
       "    <tr>\n",
       "      <th>4</th>\n",
       "      <td>B2C</td>\n",
       "      <td>4677</td>\n",
       "      <td>1.0</td>\n",
       "      <td>2018-07-27 16:48:00.000-07:00</td>\n",
       "      <td>0</td>\n",
       "      <td>0.0</td>\n",
       "      <td>3</td>\n",
       "      <td>5</td>\n",
       "      <td>90703</td>\n",
       "      <td>55070</td>\n",
       "      <td>1</td>\n",
       "      <td>25.00</td>\n",
       "      <td>1</td>\n",
       "      <td>2018-07-26 18:20:02.000-07:00</td>\n",
       "      <td>2018-07-30</td>\n",
       "      <td>3</td>\n",
       "      <td>1</td>\n",
       "      <td>PACKAGE_THICK_ENVELOPE</td>\n",
       "      <td>5</td>\n",
       "    </tr>\n",
       "  </tbody>\n",
       "</table>\n",
       "</div>"
      ],
      "text/plain": [
       "  b2c_c2c  seller_id  declared_handling_days      acceptance_scan_timestamp  \\\n",
       "0     B2C      25454                     3.0  2019-03-26 15:11:00.000-07:00   \n",
       "1     C2C    6727381                     2.0  2018-06-02 12:53:00.000-07:00   \n",
       "2     B2C      18507                     1.0  2019-01-07 16:22:00.000-05:00   \n",
       "3     B2C       4677                     1.0  2018-12-17 16:56:00.000-08:00   \n",
       "4     B2C       4677                     1.0  2018-07-27 16:48:00.000-07:00   \n",
       "\n",
       "   shipment_method_id  shipping_fee  carrier_min_estimate  \\\n",
       "0                   0           0.0                     3   \n",
       "1                   0           3.0                     3   \n",
       "2                   0           4.5                     3   \n",
       "3                   0           0.0                     3   \n",
       "4                   0           0.0                     3   \n",
       "\n",
       "   carrier_max_estimate    item_zip buyer_zip  category_id  item_price  \\\n",
       "0                     5       97219     49040           13       27.95   \n",
       "1                     5  11415-3528     62521            0       20.50   \n",
       "2                     5       27292     53010            1       19.90   \n",
       "3                     5       90703     80022            1       35.50   \n",
       "4                     5       90703     55070            1       25.00   \n",
       "\n",
       "   quantity               payment_datetime delivery_date  weight  \\\n",
       "0         1  2019-03-24 03:56:49.000-07:00    2019-03-29       5   \n",
       "1         1  2018-06-01 13:43:54.000-07:00    2018-06-05       0   \n",
       "2         1  2019-01-06 00:02:00.000-05:00    2019-01-10       9   \n",
       "3         1  2018-12-16 10:28:28.000-08:00    2018-12-21       8   \n",
       "4         1  2018-07-26 18:20:02.000-07:00    2018-07-30       3   \n",
       "\n",
       "   weight_units            package_size  record_number  \n",
       "0             1                  LETTER              1  \n",
       "1             1  PACKAGE_THICK_ENVELOPE              2  \n",
       "2             1  PACKAGE_THICK_ENVELOPE              3  \n",
       "3             1  PACKAGE_THICK_ENVELOPE              4  \n",
       "4             1  PACKAGE_THICK_ENVELOPE              5  "
      ]
     },
     "execution_count": 4,
     "metadata": {},
     "output_type": "execute_result"
    }
   ],
   "source": [
    "train_set[:5]"
   ]
  },
  {
   "cell_type": "code",
   "execution_count": 5,
   "id": "faab3599",
   "metadata": {},
   "outputs": [
    {
     "data": {
      "text/plain": [
       "(15000000, 19)"
      ]
     },
     "execution_count": 5,
     "metadata": {},
     "output_type": "execute_result"
    }
   ],
   "source": [
    "train_set.shape"
   ]
  },
  {
   "cell_type": "code",
   "execution_count": 9,
   "id": "61a4609a",
   "metadata": {
    "scrolled": true
   },
   "outputs": [
    {
     "data": {
      "text/plain": [
       "B2C    10634413\n",
       "C2C     4365587\n",
       "Name: b2c_c2c, dtype: int64"
      ]
     },
     "execution_count": 9,
     "metadata": {},
     "output_type": "execute_result"
    }
   ],
   "source": [
    "train_set['b2c_c2c'].value_counts()"
   ]
  },
  {
   "cell_type": "code",
   "execution_count": 11,
   "id": "0d1371cc",
   "metadata": {},
   "outputs": [
    {
     "data": {
      "text/plain": [
       "0     9341444\n",
       "1     2955149\n",
       "2      856653\n",
       "3      780997\n",
       "4      297472\n",
       "5      253508\n",
       "6      176007\n",
       "7      137404\n",
       "8      125093\n",
       "9       39639\n",
       "10      27081\n",
       "11       5906\n",
       "13       1545\n",
       "12       1077\n",
       "14        447\n",
       "15        431\n",
       "16         48\n",
       "19         21\n",
       "17         20\n",
       "18         17\n",
       "21         16\n",
       "20         13\n",
       "22          6\n",
       "24          4\n",
       "26          2\n",
       "Name: shipment_method_id, dtype: int64"
      ]
     },
     "execution_count": 11,
     "metadata": {},
     "output_type": "execute_result"
    }
   ],
   "source": [
    "train_set['shipment_method_id'].value_counts()"
   ]
  },
  {
   "cell_type": "code",
   "execution_count": 13,
   "id": "2a8cbddb",
   "metadata": {},
   "outputs": [
    {
     "data": {
      "text/plain": [
       "0.00      9000100\n",
       "3.50       327017\n",
       "3.75       223857\n",
       "4.00       186832\n",
       "3.00       186692\n",
       "           ...   \n",
       "47.08           1\n",
       "89.90           1\n",
       "99.85           1\n",
       "136.85          1\n",
       "74.57           1\n",
       "Name: shipping_fee, Length: 7044, dtype: int64"
      ]
     },
     "execution_count": 13,
     "metadata": {},
     "output_type": "execute_result"
    }
   ],
   "source": [
    "train_set['shipping_fee'].value_counts()"
   ]
  },
  {
   "cell_type": "code",
   "execution_count": 14,
   "id": "43dea3bc",
   "metadata": {},
   "outputs": [
    {
     "data": {
      "text/plain": [
       " 3    9341496\n",
       " 2    5649003\n",
       " 1       7451\n",
       "-1       1095\n",
       " 6        524\n",
       " 0        431\n",
       "Name: carrier_min_estimate, dtype: int64"
      ]
     },
     "execution_count": 14,
     "metadata": {},
     "output_type": "execute_result"
    }
   ],
   "source": [
    "train_set['carrier_min_estimate'].value_counts()"
   ]
  },
  {
   "cell_type": "code",
   "execution_count": 15,
   "id": "da73d4df",
   "metadata": {},
   "outputs": [
    {
     "data": {
      "text/plain": [
       " 5     13055377\n",
       " 9      1154125\n",
       " 8       780997\n",
       " 1         7882\n",
       "-1         1095\n",
       " 25         524\n",
       "Name: carrier_max_estimate, dtype: int64"
      ]
     },
     "execution_count": 15,
     "metadata": {},
     "output_type": "execute_result"
    }
   ],
   "source": [
    "train_set['carrier_max_estimate'].value_counts()"
   ]
  },
  {
   "cell_type": "code",
   "execution_count": 16,
   "id": "c055b8e1",
   "metadata": {},
   "outputs": [
    {
     "data": {
      "text/plain": [
       "1    14999964\n",
       "2          36\n",
       "Name: weight_units, dtype: int64"
      ]
     },
     "execution_count": 16,
     "metadata": {},
     "output_type": "execute_result"
    }
   ],
   "source": [
    "train_set['weight_units'].value_counts()"
   ]
  },
  {
   "cell_type": "code",
   "execution_count": 17,
   "id": "7f021363",
   "metadata": {},
   "outputs": [
    {
     "data": {
      "text/plain": [
       "0        4792627\n",
       "32       1229838\n",
       "4        1183041\n",
       "3        1140370\n",
       "16        853087\n",
       "          ...   \n",
       "707            1\n",
       "980            1\n",
       "10960          1\n",
       "5920           1\n",
       "505            1\n",
       "Name: weight, Length: 1298, dtype: int64"
      ]
     },
     "execution_count": 17,
     "metadata": {},
     "output_type": "execute_result"
    }
   ],
   "source": [
    "train_set['weight'].value_counts()"
   ]
  },
  {
   "cell_type": "code",
   "execution_count": 18,
   "id": "2ce1b329",
   "metadata": {},
   "outputs": [],
   "source": [
    "def add_func(row):\n",
    "    acct = row['acceptance_scan_timestamp']\n",
    "    dd = row['deliver_date']\n",
    "    cdate = datetime.strptime(acct.split()[0], \"%Y-%m-%d\")\n",
    "    ddate = datetime.strptime(dd, \"%Y-%m-%d\")\n",
    "    delta = cdate - ddate\n",
    "    return delta.days"
   ]
  },
  {
   "cell_type": "code",
   "execution_count": null,
   "id": "e08215ab",
   "metadata": {},
   "outputs": [],
   "source": [
    "train_set['deliver_day'] = train_set.apply(add_func, axis=1)"
   ]
  },
  {
   "cell_type": "code",
   "execution_count": 6,
   "id": "797e37db",
   "metadata": {},
   "outputs": [],
   "source": [
    "quiz_set = pd.read_csv('quiz.tsv', sep='\\t')"
   ]
  },
  {
   "cell_type": "code",
   "execution_count": 8,
   "id": "cbb34cc8",
   "metadata": {},
   "outputs": [
    {
     "data": {
      "text/html": [
       "<div>\n",
       "<style scoped>\n",
       "    .dataframe tbody tr th:only-of-type {\n",
       "        vertical-align: middle;\n",
       "    }\n",
       "\n",
       "    .dataframe tbody tr th {\n",
       "        vertical-align: top;\n",
       "    }\n",
       "\n",
       "    .dataframe thead th {\n",
       "        text-align: right;\n",
       "    }\n",
       "</style>\n",
       "<table border=\"1\" class=\"dataframe\">\n",
       "  <thead>\n",
       "    <tr style=\"text-align: right;\">\n",
       "      <th></th>\n",
       "      <th>b2c_c2c</th>\n",
       "      <th>seller_id</th>\n",
       "      <th>declared_handling_days</th>\n",
       "      <th>acceptance_scan_timestamp</th>\n",
       "      <th>shipment_method_id</th>\n",
       "      <th>shipping_fee</th>\n",
       "      <th>carrier_min_estimate</th>\n",
       "      <th>carrier_max_estimate</th>\n",
       "      <th>item_zip</th>\n",
       "      <th>buyer_zip</th>\n",
       "      <th>category_id</th>\n",
       "      <th>item_price</th>\n",
       "      <th>quantity</th>\n",
       "      <th>payment_datetime</th>\n",
       "      <th>delivery_date</th>\n",
       "      <th>weight</th>\n",
       "      <th>weight_units</th>\n",
       "      <th>package_size</th>\n",
       "      <th>record_number</th>\n",
       "    </tr>\n",
       "  </thead>\n",
       "  <tbody>\n",
       "    <tr>\n",
       "      <th>0</th>\n",
       "      <td>B2C</td>\n",
       "      <td>260031</td>\n",
       "      <td>1.0</td>\n",
       "      <td>2019-11-15 05:11:00.000-07:00</td>\n",
       "      <td>0</td>\n",
       "      <td>0.0</td>\n",
       "      <td>3</td>\n",
       "      <td>5</td>\n",
       "      <td>84116</td>\n",
       "      <td>34788</td>\n",
       "      <td>2</td>\n",
       "      <td>28.00</td>\n",
       "      <td>1</td>\n",
       "      <td>2019-11-13 19:28:44.000-07:00</td>\n",
       "      <td>NaN</td>\n",
       "      <td>4</td>\n",
       "      <td>1</td>\n",
       "      <td>PACKAGE_THICK_ENVELOPE</td>\n",
       "      <td>15000001</td>\n",
       "    </tr>\n",
       "    <tr>\n",
       "      <th>1</th>\n",
       "      <td>B2C</td>\n",
       "      <td>4854</td>\n",
       "      <td>1.0</td>\n",
       "      <td>2019-11-28 02:03:00.000-05:00</td>\n",
       "      <td>0</td>\n",
       "      <td>0.0</td>\n",
       "      <td>3</td>\n",
       "      <td>5</td>\n",
       "      <td>04901</td>\n",
       "      <td>54904</td>\n",
       "      <td>9</td>\n",
       "      <td>9.95</td>\n",
       "      <td>1</td>\n",
       "      <td>2019-11-26 14:36:21.000-05:00</td>\n",
       "      <td>NaN</td>\n",
       "      <td>13</td>\n",
       "      <td>1</td>\n",
       "      <td>PACKAGE_THICK_ENVELOPE</td>\n",
       "      <td>15000002</td>\n",
       "    </tr>\n",
       "    <tr>\n",
       "      <th>2</th>\n",
       "      <td>B2C</td>\n",
       "      <td>1987</td>\n",
       "      <td>1.0</td>\n",
       "      <td>2019-12-03 00:02:00.000-08:00</td>\n",
       "      <td>0</td>\n",
       "      <td>0.0</td>\n",
       "      <td>3</td>\n",
       "      <td>5</td>\n",
       "      <td>90015</td>\n",
       "      <td>80918</td>\n",
       "      <td>2</td>\n",
       "      <td>16.25</td>\n",
       "      <td>1</td>\n",
       "      <td>2019-12-02 07:39:41.000-08:00</td>\n",
       "      <td>NaN</td>\n",
       "      <td>6</td>\n",
       "      <td>1</td>\n",
       "      <td>PACKAGE_THICK_ENVELOPE</td>\n",
       "      <td>15000003</td>\n",
       "    </tr>\n",
       "    <tr>\n",
       "      <th>3</th>\n",
       "      <td>B2C</td>\n",
       "      <td>43799</td>\n",
       "      <td>1.0</td>\n",
       "      <td>2019-12-14 19:56:00.000-05:00</td>\n",
       "      <td>0</td>\n",
       "      <td>0.0</td>\n",
       "      <td>3</td>\n",
       "      <td>5</td>\n",
       "      <td>04007</td>\n",
       "      <td>49036</td>\n",
       "      <td>16</td>\n",
       "      <td>13.65</td>\n",
       "      <td>1</td>\n",
       "      <td>2019-12-12 14:57:31.000-05:00</td>\n",
       "      <td>NaN</td>\n",
       "      <td>4</td>\n",
       "      <td>1</td>\n",
       "      <td>PACKAGE_THICK_ENVELOPE</td>\n",
       "      <td>15000004</td>\n",
       "    </tr>\n",
       "    <tr>\n",
       "      <th>4</th>\n",
       "      <td>B2C</td>\n",
       "      <td>3660</td>\n",
       "      <td>0.0</td>\n",
       "      <td>2019-12-19 14:30:00.000-08:00</td>\n",
       "      <td>0</td>\n",
       "      <td>0.0</td>\n",
       "      <td>3</td>\n",
       "      <td>5</td>\n",
       "      <td>95841</td>\n",
       "      <td>74074</td>\n",
       "      <td>1</td>\n",
       "      <td>13.99</td>\n",
       "      <td>1</td>\n",
       "      <td>2019-12-18 16:26:43.000-08:00</td>\n",
       "      <td>NaN</td>\n",
       "      <td>2</td>\n",
       "      <td>1</td>\n",
       "      <td>LARGE_ENVELOPE</td>\n",
       "      <td>15000005</td>\n",
       "    </tr>\n",
       "  </tbody>\n",
       "</table>\n",
       "</div>"
      ],
      "text/plain": [
       "  b2c_c2c  seller_id  declared_handling_days      acceptance_scan_timestamp  \\\n",
       "0     B2C     260031                     1.0  2019-11-15 05:11:00.000-07:00   \n",
       "1     B2C       4854                     1.0  2019-11-28 02:03:00.000-05:00   \n",
       "2     B2C       1987                     1.0  2019-12-03 00:02:00.000-08:00   \n",
       "3     B2C      43799                     1.0  2019-12-14 19:56:00.000-05:00   \n",
       "4     B2C       3660                     0.0  2019-12-19 14:30:00.000-08:00   \n",
       "\n",
       "   shipment_method_id  shipping_fee  carrier_min_estimate  \\\n",
       "0                   0           0.0                     3   \n",
       "1                   0           0.0                     3   \n",
       "2                   0           0.0                     3   \n",
       "3                   0           0.0                     3   \n",
       "4                   0           0.0                     3   \n",
       "\n",
       "   carrier_max_estimate item_zip buyer_zip  category_id  item_price  quantity  \\\n",
       "0                     5    84116     34788            2       28.00         1   \n",
       "1                     5    04901     54904            9        9.95         1   \n",
       "2                     5    90015     80918            2       16.25         1   \n",
       "3                     5    04007     49036           16       13.65         1   \n",
       "4                     5    95841     74074            1       13.99         1   \n",
       "\n",
       "                payment_datetime  delivery_date  weight  weight_units  \\\n",
       "0  2019-11-13 19:28:44.000-07:00            NaN       4             1   \n",
       "1  2019-11-26 14:36:21.000-05:00            NaN      13             1   \n",
       "2  2019-12-02 07:39:41.000-08:00            NaN       6             1   \n",
       "3  2019-12-12 14:57:31.000-05:00            NaN       4             1   \n",
       "4  2019-12-18 16:26:43.000-08:00            NaN       2             1   \n",
       "\n",
       "             package_size  record_number  \n",
       "0  PACKAGE_THICK_ENVELOPE       15000001  \n",
       "1  PACKAGE_THICK_ENVELOPE       15000002  \n",
       "2  PACKAGE_THICK_ENVELOPE       15000003  \n",
       "3  PACKAGE_THICK_ENVELOPE       15000004  \n",
       "4          LARGE_ENVELOPE       15000005  "
      ]
     },
     "execution_count": 8,
     "metadata": {},
     "output_type": "execute_result"
    }
   ],
   "source": [
    "quiz_set[:5]"
   ]
  },
  {
   "cell_type": "code",
   "execution_count": 10,
   "id": "a9c007b4",
   "metadata": {},
   "outputs": [
    {
     "data": {
      "text/plain": [
       "B2C    1722898\n",
       "C2C     777102\n",
       "Name: b2c_c2c, dtype: int64"
      ]
     },
     "execution_count": 10,
     "metadata": {},
     "output_type": "execute_result"
    }
   ],
   "source": [
    "quiz_set['b2c_c2c'].value_counts()"
   ]
  },
  {
   "cell_type": "code",
   "execution_count": 12,
   "id": "3a23f32b",
   "metadata": {},
   "outputs": [
    {
     "data": {
      "text/plain": [
       "0     1533017\n",
       "1      520278\n",
       "3      156470\n",
       "2      133287\n",
       "4       40281\n",
       "5       39942\n",
       "6       25976\n",
       "7       21315\n",
       "8       17684\n",
       "9        6521\n",
       "10       3734\n",
       "11       1144\n",
       "13        244\n",
       "15         55\n",
       "12         32\n",
       "14         16\n",
       "16          2\n",
       "18          1\n",
       "17          1\n",
       "Name: shipment_method_id, dtype: int64"
      ]
     },
     "execution_count": 12,
     "metadata": {},
     "output_type": "execute_result"
    }
   ],
   "source": [
    "quiz_set['shipment_method_id'].value_counts()"
   ]
  },
  {
   "cell_type": "code",
   "execution_count": 14,
   "id": "4e8a6a96",
   "metadata": {},
   "outputs": [],
   "source": [
    "zip_code = set(train_set['item_zip']) | set(train_set['buyer_zip']) | set(quiz_set['item_zip']) | set(quiz_set['buyer_zip'])"
   ]
  },
  {
   "cell_type": "code",
   "execution_count": 15,
   "id": "178f01b5",
   "metadata": {},
   "outputs": [
    {
     "data": {
      "text/plain": [
       "78535"
      ]
     },
     "execution_count": 15,
     "metadata": {},
     "output_type": "execute_result"
    }
   ],
   "source": [
    "len(zip_code)"
   ]
  },
  {
   "cell_type": "code",
   "execution_count": 16,
   "id": "d3cc1bb0",
   "metadata": {},
   "outputs": [],
   "source": [
    "import json"
   ]
  },
  {
   "cell_type": "code",
   "execution_count": 17,
   "id": "0971b488",
   "metadata": {},
   "outputs": [],
   "source": [
    "json.dump(list(zip_code), open('zip_code_list.json', 'w', encoding='utf-8'))"
   ]
  },
  {
   "cell_type": "code",
   "execution_count": 22,
   "id": "cb3b7de2",
   "metadata": {},
   "outputs": [
    {
     "data": {
      "text/html": [
       "<div>\n",
       "<style scoped>\n",
       "    .dataframe tbody tr th:only-of-type {\n",
       "        vertical-align: middle;\n",
       "    }\n",
       "\n",
       "    .dataframe tbody tr th {\n",
       "        vertical-align: top;\n",
       "    }\n",
       "\n",
       "    .dataframe thead th {\n",
       "        text-align: right;\n",
       "    }\n",
       "</style>\n",
       "<table border=\"1\" class=\"dataframe\">\n",
       "  <thead>\n",
       "    <tr style=\"text-align: right;\">\n",
       "      <th></th>\n",
       "      <th>b2c_c2c</th>\n",
       "      <th>seller_id</th>\n",
       "      <th>declared_handling_days</th>\n",
       "      <th>acceptance_scan_timestamp</th>\n",
       "      <th>shipment_method_id</th>\n",
       "      <th>shipping_fee</th>\n",
       "      <th>carrier_min_estimate</th>\n",
       "      <th>carrier_max_estimate</th>\n",
       "      <th>item_zip</th>\n",
       "      <th>buyer_zip</th>\n",
       "      <th>category_id</th>\n",
       "      <th>item_price</th>\n",
       "      <th>quantity</th>\n",
       "      <th>payment_datetime</th>\n",
       "      <th>delivery_date</th>\n",
       "      <th>weight</th>\n",
       "      <th>weight_units</th>\n",
       "      <th>package_size</th>\n",
       "      <th>record_number</th>\n",
       "    </tr>\n",
       "  </thead>\n",
       "  <tbody>\n",
       "    <tr>\n",
       "      <th>5914552</th>\n",
       "      <td>C2C</td>\n",
       "      <td>5971014</td>\n",
       "      <td>NaN</td>\n",
       "      <td>2018-12-15 15:43:05.000-08:00</td>\n",
       "      <td>2</td>\n",
       "      <td>0.0</td>\n",
       "      <td>2</td>\n",
       "      <td>9</td>\n",
       "      <td>NaN</td>\n",
       "      <td>80219-3401</td>\n",
       "      <td>8</td>\n",
       "      <td>302.3</td>\n",
       "      <td>1</td>\n",
       "      <td>2018-12-09 16:53:56.000-08:00</td>\n",
       "      <td>2018-12-18</td>\n",
       "      <td>0</td>\n",
       "      <td>1</td>\n",
       "      <td>PACKAGE_THICK_ENVELOPE</td>\n",
       "      <td>5914553</td>\n",
       "    </tr>\n",
       "  </tbody>\n",
       "</table>\n",
       "</div>"
      ],
      "text/plain": [
       "        b2c_c2c  seller_id  declared_handling_days  \\\n",
       "5914552     C2C    5971014                     NaN   \n",
       "\n",
       "             acceptance_scan_timestamp  shipment_method_id  shipping_fee  \\\n",
       "5914552  2018-12-15 15:43:05.000-08:00                   2           0.0   \n",
       "\n",
       "         carrier_min_estimate  carrier_max_estimate item_zip   buyer_zip  \\\n",
       "5914552                     2                     9      NaN  80219-3401   \n",
       "\n",
       "         category_id  item_price  quantity               payment_datetime  \\\n",
       "5914552            8       302.3         1  2018-12-09 16:53:56.000-08:00   \n",
       "\n",
       "        delivery_date  weight  weight_units            package_size  \\\n",
       "5914552    2018-12-18       0             1  PACKAGE_THICK_ENVELOPE   \n",
       "\n",
       "         record_number  \n",
       "5914552        5914553  "
      ]
     },
     "execution_count": 22,
     "metadata": {},
     "output_type": "execute_result"
    }
   ],
   "source": [
    "train_set[train_set['item_zip'].isnull()]"
   ]
  },
  {
   "cell_type": "code",
   "execution_count": 23,
   "id": "969c940b",
   "metadata": {},
   "outputs": [
    {
     "data": {
      "text/html": [
       "<div>\n",
       "<style scoped>\n",
       "    .dataframe tbody tr th:only-of-type {\n",
       "        vertical-align: middle;\n",
       "    }\n",
       "\n",
       "    .dataframe tbody tr th {\n",
       "        vertical-align: top;\n",
       "    }\n",
       "\n",
       "    .dataframe thead th {\n",
       "        text-align: right;\n",
       "    }\n",
       "</style>\n",
       "<table border=\"1\" class=\"dataframe\">\n",
       "  <thead>\n",
       "    <tr style=\"text-align: right;\">\n",
       "      <th></th>\n",
       "      <th>b2c_c2c</th>\n",
       "      <th>seller_id</th>\n",
       "      <th>declared_handling_days</th>\n",
       "      <th>acceptance_scan_timestamp</th>\n",
       "      <th>shipment_method_id</th>\n",
       "      <th>shipping_fee</th>\n",
       "      <th>carrier_min_estimate</th>\n",
       "      <th>carrier_max_estimate</th>\n",
       "      <th>item_zip</th>\n",
       "      <th>buyer_zip</th>\n",
       "      <th>category_id</th>\n",
       "      <th>item_price</th>\n",
       "      <th>quantity</th>\n",
       "      <th>payment_datetime</th>\n",
       "      <th>delivery_date</th>\n",
       "      <th>weight</th>\n",
       "      <th>weight_units</th>\n",
       "      <th>package_size</th>\n",
       "      <th>record_number</th>\n",
       "    </tr>\n",
       "  </thead>\n",
       "  <tbody>\n",
       "    <tr>\n",
       "      <th>4845032</th>\n",
       "      <td>C2C</td>\n",
       "      <td>1343135</td>\n",
       "      <td>NaN</td>\n",
       "      <td>2018-07-30 11:34:00.000-05:00</td>\n",
       "      <td>12</td>\n",
       "      <td>0.0</td>\n",
       "      <td>-1</td>\n",
       "      <td>-1</td>\n",
       "      <td>65804</td>\n",
       "      <td>NaN</td>\n",
       "      <td>4</td>\n",
       "      <td>5.5</td>\n",
       "      <td>1</td>\n",
       "      <td>2018-07-28 17:03:33.000-05:00</td>\n",
       "      <td>2018-08-04</td>\n",
       "      <td>5</td>\n",
       "      <td>1</td>\n",
       "      <td>PACKAGE_THICK_ENVELOPE</td>\n",
       "      <td>4845033</td>\n",
       "    </tr>\n",
       "  </tbody>\n",
       "</table>\n",
       "</div>"
      ],
      "text/plain": [
       "        b2c_c2c  seller_id  declared_handling_days  \\\n",
       "4845032     C2C    1343135                     NaN   \n",
       "\n",
       "             acceptance_scan_timestamp  shipment_method_id  shipping_fee  \\\n",
       "4845032  2018-07-30 11:34:00.000-05:00                  12           0.0   \n",
       "\n",
       "         carrier_min_estimate  carrier_max_estimate item_zip buyer_zip  \\\n",
       "4845032                    -1                    -1    65804       NaN   \n",
       "\n",
       "         category_id  item_price  quantity               payment_datetime  \\\n",
       "4845032            4         5.5         1  2018-07-28 17:03:33.000-05:00   \n",
       "\n",
       "        delivery_date  weight  weight_units            package_size  \\\n",
       "4845032    2018-08-04       5             1  PACKAGE_THICK_ENVELOPE   \n",
       "\n",
       "         record_number  \n",
       "4845032        4845033  "
      ]
     },
     "execution_count": 23,
     "metadata": {},
     "output_type": "execute_result"
    }
   ],
   "source": [
    "train_set[train_set['buyer_zip'].isnull()]"
   ]
  },
  {
   "cell_type": "code",
   "execution_count": 20,
   "id": "f9ebcb11",
   "metadata": {},
   "outputs": [
    {
     "data": {
      "text/plain": [
       "0"
      ]
     },
     "execution_count": 20,
     "metadata": {},
     "output_type": "execute_result"
    }
   ],
   "source": [
    "quiz_set['item_zip'].isnull().sum()"
   ]
  },
  {
   "cell_type": "code",
   "execution_count": 21,
   "id": "d958ab4a",
   "metadata": {},
   "outputs": [
    {
     "data": {
      "text/plain": [
       "0"
      ]
     },
     "execution_count": 21,
     "metadata": {},
     "output_type": "execute_result"
    }
   ],
   "source": [
    "quiz_set['item_zip'].isnull().sum()"
   ]
  },
  {
   "cell_type": "code",
   "execution_count": null,
   "id": "3a48c013",
   "metadata": {},
   "outputs": [],
   "source": []
  }
 ],
 "metadata": {
  "kernelspec": {
   "display_name": "Python 3 (ipykernel)",
   "language": "python",
   "name": "python3"
  },
  "language_info": {
   "codemirror_mode": {
    "name": "ipython",
    "version": 3
   },
   "file_extension": ".py",
   "mimetype": "text/x-python",
   "name": "python",
   "nbconvert_exporter": "python",
   "pygments_lexer": "ipython3",
   "version": "3.8.11"
  }
 },
 "nbformat": 4,
 "nbformat_minor": 5
}
