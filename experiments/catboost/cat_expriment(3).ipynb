{
 "cells": [
  {
   "cell_type": "markdown",
   "id": "8d8bf70b",
   "metadata": {},
   "source": [
    "# Experiment on Features(3), CatBoost Model\n",
    "Now that we see some features are contributing a lot, we wanna make another assumption:  \n",
    "    - CatBoost model allow people to determine feature interaction, meaning we can set rules for tree growing: only A, B can grow in one tree, and A,C cannot be set into the same tree, etc.  \n",
    "    - Is it possible, that we decompose the model and get better result, aka separate features to 2 groups and build 2 models, and combine them together?"
   ]
  },
  {
   "cell_type": "code",
   "execution_count": 2,
   "id": "cb3539fa",
   "metadata": {},
   "outputs": [],
   "source": [
    "import numpy as np\n",
    "from catboost import Pool, CatBoostRegressor\n",
    "import json\n",
    "import pandas as pd\n",
    "import math"
   ]
  },
  {
   "cell_type": "code",
   "execution_count": 2,
   "id": "5d38e333",
   "metadata": {},
   "outputs": [],
   "source": [
    "# the evaluation metric\n",
    "class EbayMetric(object):\n",
    "    def get_final_error(self, error, weight):\n",
    "        return error / (weight + 1e-38)\n",
    "\n",
    "    def is_max_optimal(self):\n",
    "        return False\n",
    "\n",
    "    def evaluate(self, approxes, target, weight):\n",
    "        assert len(approxes) == 1\n",
    "        assert len(target) == len(approxes[0])\n",
    "\n",
    "        approx = approxes[0]\n",
    "\n",
    "        error_sum = 0.0\n",
    "        weight_sum = 0.0\n",
    "\n",
    "        for i in range(len(approx)):\n",
    "            w = 1.0 if weight is None else weight[i]\n",
    "            weight_sum += w\n",
    "            cur_approx = round(approx[i])\n",
    "            residual = int(target[i] - cur_approx)\n",
    "            if residual < 0:\n",
    "                error_sum += w * -0.6 * residual\n",
    "            else:\n",
    "                error_sum += w * 0.4 * residual\n",
    "\n",
    "        return error_sum, weight_sum"
   ]
  },
  {
   "cell_type": "markdown",
   "id": "f84c9065",
   "metadata": {},
   "source": [
    "## Full model\n",
    "We randomly select a submodel and calculate its loss score."
   ]
  },
  {
   "cell_type": "code",
   "execution_count": 4,
   "id": "63bd6fb0",
   "metadata": {},
   "outputs": [],
   "source": [
    "# prepare the data\n",
    "train_set = pd.read_csv('../data/subtrain/train_1.tsv', sep='\\t')\n",
    "train_set['cross_city'] = train_set['cross_city'].astype('int')\n",
    "train_set['cross_state'] = train_set['cross_state'].astype('int')\n",
    "train_set['sender_state'] = train_set['sender_state'].astype('int')\n",
    "train_set['receive_state'] = train_set['receive_state'].astype('int')\n",
    "valid_set = pd.read_csv('../data/subtrain/valid_1.tsv', sep='\\t')\n",
    "valid_set['cross_city'] = valid_set['cross_city'].astype('int')\n",
    "valid_set['cross_state'] = valid_set['cross_state'].astype('int')\n",
    "valid_set['sender_state'] = valid_set['sender_state'].astype('int')\n",
    "valid_set['receive_state'] = valid_set['receive_state'].astype('int')"
   ]
  },
  {
   "cell_type": "code",
   "execution_count": 5,
   "id": "b86c007e",
   "metadata": {},
   "outputs": [],
   "source": [
    "x_train = train_set.drop(['record_number', 'target'], axis=1)\n",
    "y_train = train_set.target\n",
    "x_valid = valid_set.drop(['record_number', 'target'], axis=1)\n",
    "y_valid = valid_set.target"
   ]
  },
  {
   "cell_type": "code",
   "execution_count": 7,
   "id": "151f2cde",
   "metadata": {},
   "outputs": [],
   "source": [
    "cat_index = []\n",
    "cat_set = set({\"shipment_method_id\", \"category_id\", \"bt\", \"package_size\", \"cross_city\", \n",
    "\"cross_state\", \"sender_state\", \"receive_state\", \"isNextDay\", \"isHoliday\"})\n",
    "\n",
    "for idx, cn in enumerate(x_train.columns):\n",
    "    if cn in cat_set:\n",
    "        cat_index.append(idx)\n",
    "\n",
    "train_pool = Pool(x_train, \n",
    "              y_train, \n",
    "              cat_features=cat_index,\n",
    "              feature_names=list(x_train.columns))\n",
    "test_pool = Pool(x_valid,\n",
    "             y_valid,\n",
    "             cat_features=cat_index,\n",
    "             feature_names=list(x_valid.columns))"
   ]
  },
  {
   "cell_type": "code",
   "execution_count": 8,
   "id": "3f399b87",
   "metadata": {},
   "outputs": [],
   "source": [
    "model = CatBoostRegressor(iterations=1000, \n",
    "                          depth = 12,\n",
    "                          border_count=254,\n",
    "                          learning_rate=1, \n",
    "                          loss_function='RMSE',\n",
    "                          random_strength=1,\n",
    "                          one_hot_max_size=8,\n",
    "                          l2_leaf_reg=3,\n",
    "                          grow_policy='SymmetricTree',\n",
    "                          eval_metric=EbayMetric())"
   ]
  },
  {
   "cell_type": "code",
   "execution_count": 9,
   "id": "31e5e483",
   "metadata": {},
   "outputs": [
    {
     "name": "stdout",
     "output_type": "stream",
     "text": [
      "0:\tlearn: 0.4286172\ttest: 0.4283220\tbest: 0.4283220 (0)\ttotal: 6.25s\tremaining: 1h 44m 8s\n",
      "1:\tlearn: 0.4240725\ttest: 0.4236370\tbest: 0.4236370 (1)\ttotal: 10.6s\tremaining: 1h 28m 13s\n",
      "2:\tlearn: 0.4221868\ttest: 0.4214966\tbest: 0.4214966 (2)\ttotal: 13.8s\tremaining: 1h 16m 39s\n",
      "3:\tlearn: 0.4191230\ttest: 0.4184449\tbest: 0.4184449 (3)\ttotal: 17.4s\tremaining: 1h 12m 10s\n",
      "4:\tlearn: 0.4160473\ttest: 0.4156065\tbest: 0.4156065 (4)\ttotal: 21.5s\tremaining: 1h 11m 27s\n",
      "5:\tlearn: 0.4134271\ttest: 0.4126819\tbest: 0.4126819 (5)\ttotal: 26.2s\tremaining: 1h 12m 22s\n",
      "6:\tlearn: 0.4114032\ttest: 0.4109505\tbest: 0.4109505 (6)\ttotal: 30.1s\tremaining: 1h 11m 6s\n",
      "7:\tlearn: 0.4083330\ttest: 0.4079846\tbest: 0.4079846 (7)\ttotal: 33.6s\tremaining: 1h 9m 29s\n",
      "8:\tlearn: 0.4059522\ttest: 0.4054167\tbest: 0.4054167 (8)\ttotal: 38.1s\tremaining: 1h 9m 55s\n",
      "9:\tlearn: 0.4039745\ttest: 0.4033950\tbest: 0.4033950 (9)\ttotal: 42s\tremaining: 1h 9m 20s\n",
      "10:\tlearn: 0.4023869\ttest: 0.4021226\tbest: 0.4021226 (10)\ttotal: 46s\tremaining: 1h 8m 56s\n",
      "11:\tlearn: 0.4015356\ttest: 0.4012821\tbest: 0.4012821 (11)\ttotal: 49.3s\tremaining: 1h 7m 40s\n",
      "12:\tlearn: 0.4010526\ttest: 0.4011348\tbest: 0.4011348 (12)\ttotal: 53.6s\tremaining: 1h 7m 53s\n",
      "13:\tlearn: 0.4002264\ttest: 0.4002720\tbest: 0.4002720 (13)\ttotal: 57.2s\tremaining: 1h 7m 11s\n",
      "14:\tlearn: 0.3994042\ttest: 0.3996140\tbest: 0.3996140 (14)\ttotal: 1m 2s\tremaining: 1h 8m 7s\n",
      "15:\tlearn: 0.3977833\ttest: 0.3979740\tbest: 0.3979740 (15)\ttotal: 1m 6s\tremaining: 1h 8m 2s\n",
      "16:\tlearn: 0.3973439\ttest: 0.3976494\tbest: 0.3976494 (16)\ttotal: 1m 10s\tremaining: 1h 7m 50s\n",
      "17:\tlearn: 0.3964632\ttest: 0.3968120\tbest: 0.3968120 (17)\ttotal: 1m 14s\tremaining: 1h 7m 39s\n",
      "18:\tlearn: 0.3958719\ttest: 0.3963462\tbest: 0.3963462 (18)\ttotal: 1m 18s\tremaining: 1h 7m 16s\n",
      "19:\tlearn: 0.3953932\ttest: 0.3960787\tbest: 0.3960787 (19)\ttotal: 1m 22s\tremaining: 1h 7m 12s\n",
      "20:\tlearn: 0.3956353\ttest: 0.3964027\tbest: 0.3960787 (19)\ttotal: 1m 26s\tremaining: 1h 7m 12s\n",
      "21:\tlearn: 0.3950021\ttest: 0.3958110\tbest: 0.3958110 (21)\ttotal: 1m 30s\tremaining: 1h 7m 4s\n",
      "22:\tlearn: 0.3941609\ttest: 0.3949470\tbest: 0.3949470 (22)\ttotal: 1m 34s\tremaining: 1h 7m 4s\n",
      "23:\tlearn: 0.3935503\ttest: 0.3944011\tbest: 0.3944011 (23)\ttotal: 1m 39s\tremaining: 1h 7m 29s\n",
      "24:\tlearn: 0.3933520\ttest: 0.3942538\tbest: 0.3942538 (24)\ttotal: 1m 44s\tremaining: 1h 7m 46s\n",
      "25:\tlearn: 0.3931627\ttest: 0.3940411\tbest: 0.3940411 (25)\ttotal: 1m 47s\tremaining: 1h 7m 19s\n",
      "26:\tlearn: 0.3928560\ttest: 0.3937174\tbest: 0.3937174 (26)\ttotal: 1m 52s\tremaining: 1h 7m 22s\n",
      "27:\tlearn: 0.3926247\ttest: 0.3935130\tbest: 0.3935130 (27)\ttotal: 1m 56s\tremaining: 1h 7m 8s\n",
      "28:\tlearn: 0.3918873\ttest: 0.3926618\tbest: 0.3926618 (28)\ttotal: 2m\tremaining: 1h 7m 20s\n",
      "29:\tlearn: 0.3911234\ttest: 0.3922336\tbest: 0.3922336 (29)\ttotal: 2m 5s\tremaining: 1h 7m 44s\n",
      "30:\tlearn: 0.3908632\ttest: 0.3920233\tbest: 0.3920233 (30)\ttotal: 2m 11s\tremaining: 1h 8m 20s\n",
      "31:\tlearn: 0.3908163\ttest: 0.3919793\tbest: 0.3919793 (31)\ttotal: 2m 15s\tremaining: 1h 8m 23s\n",
      "32:\tlearn: 0.3906814\ttest: 0.3918843\tbest: 0.3918843 (32)\ttotal: 2m 20s\tremaining: 1h 8m 24s\n",
      "33:\tlearn: 0.3901181\ttest: 0.3913980\tbest: 0.3913980 (33)\ttotal: 2m 23s\tremaining: 1h 7m 49s\n",
      "34:\tlearn: 0.3897263\ttest: 0.3911816\tbest: 0.3911816 (34)\ttotal: 2m 27s\tremaining: 1h 7m 39s\n",
      "35:\tlearn: 0.3896112\ttest: 0.3912938\tbest: 0.3911816 (34)\ttotal: 2m 31s\tremaining: 1h 7m 49s\n",
      "36:\tlearn: 0.3894071\ttest: 0.3912045\tbest: 0.3911816 (34)\ttotal: 2m 36s\tremaining: 1h 7m 40s\n",
      "37:\tlearn: 0.3890228\ttest: 0.3908894\tbest: 0.3908894 (37)\ttotal: 2m 39s\tremaining: 1h 7m 27s\n",
      "38:\tlearn: 0.3887799\ttest: 0.3907953\tbest: 0.3907953 (38)\ttotal: 2m 43s\tremaining: 1h 7m 14s\n",
      "39:\tlearn: 0.3883741\ttest: 0.3902427\tbest: 0.3902427 (39)\ttotal: 2m 48s\tremaining: 1h 7m 15s\n",
      "40:\tlearn: 0.3878735\ttest: 0.3897048\tbest: 0.3897048 (40)\ttotal: 2m 52s\tremaining: 1h 7m 6s\n",
      "41:\tlearn: 0.3877248\ttest: 0.3897873\tbest: 0.3897048 (40)\ttotal: 2m 56s\tremaining: 1h 7m 1s\n",
      "42:\tlearn: 0.3876371\ttest: 0.3898402\tbest: 0.3897048 (40)\ttotal: 3m\tremaining: 1h 6m 54s\n",
      "43:\tlearn: 0.3874002\ttest: 0.3897684\tbest: 0.3897048 (40)\ttotal: 3m 4s\tremaining: 1h 6m 56s\n",
      "44:\tlearn: 0.3872331\ttest: 0.3897317\tbest: 0.3897048 (40)\ttotal: 3m 9s\tremaining: 1h 6m 52s\n",
      "45:\tlearn: 0.3870206\ttest: 0.3897075\tbest: 0.3897048 (40)\ttotal: 3m 12s\tremaining: 1h 6m 30s\n",
      "Stopped by overfitting detector  (5 iterations wait)\n",
      "\n",
      "bestTest = 0.3897047902\n",
      "bestIteration = 40\n",
      "\n",
      "Shrink model to first 41 iterations.\n"
     ]
    },
    {
     "data": {
      "text/plain": [
       "<catboost.core.CatBoostRegressor at 0x7ff92106dcd0>"
      ]
     },
     "execution_count": 9,
     "metadata": {},
     "output_type": "execute_result"
    }
   ],
   "source": [
    "model.fit(train_pool, early_stopping_rounds=5, eval_set=test_pool, use_best_model=True)"
   ]
  },
  {
   "cell_type": "code",
   "execution_count": 10,
   "id": "ba639bf8",
   "metadata": {},
   "outputs": [
    {
     "data": {
      "text/plain": [
       "<AxesSubplot:>"
      ]
     },
     "execution_count": 10,
     "metadata": {},
     "output_type": "execute_result"
    },
    {
     "data": {
      "image/png": "[encoded data removed]",
      "text/plain": [
       "<Figure size 432x288 with 1 Axes>"
      ]
     },
     "metadata": {
      "needs_background": "light"
     },
     "output_type": "display_data"
    }
   ],
   "source": [
    "loss_change_score = model.get_feature_importance(data=train_pool,\n",
    "                                              type = 'LossFunctionChange')\n",
    "pd.Series(loss_change_score).plot.bar()"
   ]
  },
  {
   "cell_type": "code",
   "execution_count": 11,
   "id": "e24475d5",
   "metadata": {},
   "outputs": [
    {
     "data": {
      "text/plain": [
       "<AxesSubplot:>"
      ]
     },
     "execution_count": 11,
     "metadata": {},
     "output_type": "execute_result"
    },
    {
     "data": {
      "image/png": "[encoded data removed]",
      "text/plain": [
       "<Figure size 432x288 with 1 Axes>"
      ]
     },
     "metadata": {
      "needs_background": "light"
     },
     "output_type": "display_data"
    }
   ],
   "source": [
    "pred_val_change = model.get_feature_importance(data=train_pool,\n",
    "                                              type = 'PredictionValuesChange')\n",
    "\n",
    "pd.Series(pred_val_change).plot.bar()"
   ]
  },
  {
   "cell_type": "code",
   "execution_count": 14,
   "id": "a1ea289c",
   "metadata": {},
   "outputs": [
    {
     "data": {
      "text/html": [
       "<div>\n",
       "<style scoped>\n",
       "    .dataframe tbody tr th:only-of-type {\n",
       "        vertical-align: middle;\n",
       "    }\n",
       "\n",
       "    .dataframe tbody tr th {\n",
       "        vertical-align: top;\n",
       "    }\n",
       "\n",
       "    .dataframe thead th {\n",
       "        text-align: right;\n",
       "    }\n",
       "</style>\n",
       "<table border=\"1\" class=\"dataframe\">\n",
       "  <thead>\n",
       "    <tr style=\"text-align: right;\">\n",
       "      <th></th>\n",
       "      <th>feature_name</th>\n",
       "      <th>feature_importance</th>\n",
       "      <th>loss_change</th>\n",
       "    </tr>\n",
       "  </thead>\n",
       "  <tbody>\n",
       "    <tr>\n",
       "      <th>3</th>\n",
       "      <td>carrier_max_estimate</td>\n",
       "      <td>35.572008</td>\n",
       "      <td>0.055637</td>\n",
       "    </tr>\n",
       "    <tr>\n",
       "      <th>22</th>\n",
       "      <td>acc_date</td>\n",
       "      <td>10.517773</td>\n",
       "      <td>0.016043</td>\n",
       "    </tr>\n",
       "    <tr>\n",
       "      <th>14</th>\n",
       "      <td>dis</td>\n",
       "      <td>9.758291</td>\n",
       "      <td>0.020911</td>\n",
       "    </tr>\n",
       "    <tr>\n",
       "      <th>17</th>\n",
       "      <td>sender_state</td>\n",
       "      <td>7.902511</td>\n",
       "      <td>0.010560</td>\n",
       "    </tr>\n",
       "    <tr>\n",
       "      <th>19</th>\n",
       "      <td>acc_hour</td>\n",
       "      <td>5.942981</td>\n",
       "      <td>0.007972</td>\n",
       "    </tr>\n",
       "    <tr>\n",
       "      <th>10</th>\n",
       "      <td>package_size</td>\n",
       "      <td>5.914105</td>\n",
       "      <td>0.001895</td>\n",
       "    </tr>\n",
       "    <tr>\n",
       "      <th>8</th>\n",
       "      <td>seller_size</td>\n",
       "      <td>3.825894</td>\n",
       "      <td>0.003911</td>\n",
       "    </tr>\n",
       "    <tr>\n",
       "      <th>0</th>\n",
       "      <td>shipment_method_id</td>\n",
       "      <td>3.483543</td>\n",
       "      <td>0.007922</td>\n",
       "    </tr>\n",
       "    <tr>\n",
       "      <th>2</th>\n",
       "      <td>carrier_min_estimate</td>\n",
       "      <td>3.268749</td>\n",
       "      <td>0.020674</td>\n",
       "    </tr>\n",
       "    <tr>\n",
       "      <th>4</th>\n",
       "      <td>category_id</td>\n",
       "      <td>3.002137</td>\n",
       "      <td>0.000402</td>\n",
       "    </tr>\n",
       "    <tr>\n",
       "      <th>18</th>\n",
       "      <td>receive_state</td>\n",
       "      <td>2.659609</td>\n",
       "      <td>0.002094</td>\n",
       "    </tr>\n",
       "    <tr>\n",
       "      <th>7</th>\n",
       "      <td>declared_handling_days</td>\n",
       "      <td>1.607290</td>\n",
       "      <td>0.000782</td>\n",
       "    </tr>\n",
       "    <tr>\n",
       "      <th>16</th>\n",
       "      <td>cross_state</td>\n",
       "      <td>1.468536</td>\n",
       "      <td>0.010754</td>\n",
       "    </tr>\n",
       "    <tr>\n",
       "      <th>1</th>\n",
       "      <td>shipping_fee</td>\n",
       "      <td>1.179232</td>\n",
       "      <td>0.007659</td>\n",
       "    </tr>\n",
       "    <tr>\n",
       "      <th>5</th>\n",
       "      <td>item_price</td>\n",
       "      <td>1.132977</td>\n",
       "      <td>0.000665</td>\n",
       "    </tr>\n",
       "    <tr>\n",
       "      <th>11</th>\n",
       "      <td>weight</td>\n",
       "      <td>1.121571</td>\n",
       "      <td>0.000555</td>\n",
       "    </tr>\n",
       "    <tr>\n",
       "      <th>12</th>\n",
       "      <td>shipping_units</td>\n",
       "      <td>0.694001</td>\n",
       "      <td>0.000755</td>\n",
       "    </tr>\n",
       "    <tr>\n",
       "      <th>13</th>\n",
       "      <td>tz_dis</td>\n",
       "      <td>0.639591</td>\n",
       "      <td>0.000419</td>\n",
       "    </tr>\n",
       "    <tr>\n",
       "      <th>9</th>\n",
       "      <td>bt</td>\n",
       "      <td>0.155658</td>\n",
       "      <td>0.000038</td>\n",
       "    </tr>\n",
       "    <tr>\n",
       "      <th>6</th>\n",
       "      <td>quantity</td>\n",
       "      <td>0.099279</td>\n",
       "      <td>0.000067</td>\n",
       "    </tr>\n",
       "    <tr>\n",
       "      <th>15</th>\n",
       "      <td>cross_city</td>\n",
       "      <td>0.054262</td>\n",
       "      <td>0.000031</td>\n",
       "    </tr>\n",
       "    <tr>\n",
       "      <th>20</th>\n",
       "      <td>isNextDay</td>\n",
       "      <td>0.000000</td>\n",
       "      <td>0.000000</td>\n",
       "    </tr>\n",
       "    <tr>\n",
       "      <th>21</th>\n",
       "      <td>pay_hour</td>\n",
       "      <td>0.000000</td>\n",
       "      <td>0.000000</td>\n",
       "    </tr>\n",
       "    <tr>\n",
       "      <th>23</th>\n",
       "      <td>isHoliday</td>\n",
       "      <td>0.000000</td>\n",
       "      <td>0.000000</td>\n",
       "    </tr>\n",
       "  </tbody>\n",
       "</table>\n",
       "</div>"
      ],
      "text/plain": [
       "              feature_name  feature_importance  loss_change\n",
       "3     carrier_max_estimate           35.572008     0.055637\n",
       "22                acc_date           10.517773     0.016043\n",
       "14                     dis            9.758291     0.020911\n",
       "17            sender_state            7.902511     0.010560\n",
       "19                acc_hour            5.942981     0.007972\n",
       "10            package_size            5.914105     0.001895\n",
       "8              seller_size            3.825894     0.003911\n",
       "0       shipment_method_id            3.483543     0.007922\n",
       "2     carrier_min_estimate            3.268749     0.020674\n",
       "4              category_id            3.002137     0.000402\n",
       "18           receive_state            2.659609     0.002094\n",
       "7   declared_handling_days            1.607290     0.000782\n",
       "16             cross_state            1.468536     0.010754\n",
       "1             shipping_fee            1.179232     0.007659\n",
       "5               item_price            1.132977     0.000665\n",
       "11                  weight            1.121571     0.000555\n",
       "12          shipping_units            0.694001     0.000755\n",
       "13                  tz_dis            0.639591     0.000419\n",
       "9                       bt            0.155658     0.000038\n",
       "6                 quantity            0.099279     0.000067\n",
       "15              cross_city            0.054262     0.000031\n",
       "20               isNextDay            0.000000     0.000000\n",
       "21                pay_hour            0.000000     0.000000\n",
       "23               isHoliday            0.000000     0.000000"
      ]
     },
     "execution_count": 14,
     "metadata": {},
     "output_type": "execute_result"
    }
   ],
   "source": [
    "d = {'feature_name':x_train.columns,  'feature_importance':pred_val_change,'loss_change':loss_change_score}\n",
    "feature_score = pd.DataFrame(data=d)\n",
    "feature_score.sort_values(by = ['feature_importance'], ascending = False)"
   ]
  },
  {
   "cell_type": "markdown",
   "id": "ba6feeeb",
   "metadata": {},
   "source": [
    "## Reduced model 1\n",
    "We now separate features into 2 groups and see how loss changes."
   ]
  },
  {
   "cell_type": "code",
   "execution_count": 23,
   "id": "72b89019",
   "metadata": {},
   "outputs": [],
   "source": [
    "# select feautres\n",
    "x_train_test = x_train.drop(['isHoliday', 'pay_hour', 'isNextDay', 'cross_city'], axis =1)\n",
    "x_valid_test = x_valid.drop(['isHoliday', 'pay_hour', 'isNextDay', 'cross_city'], axis =1)"
   ]
  },
  {
   "cell_type": "code",
   "execution_count": 24,
   "id": "b85533a4",
   "metadata": {},
   "outputs": [],
   "source": [
    "cat_index_test = []\n",
    "cat_set_test = set({\"shipment_method_id\", \"category_id\", \"bt\", \"package_size\",  \n",
    "\"cross_state\", \"sender_state\", \"receive_state\"})\n",
    "\n",
    "for idx, cn in enumerate(x_train_test.columns):\n",
    "    if cn in cat_set_test:\n",
    "        cat_index_test.append(idx)\n",
    "\n",
    "train_pool = Pool(x_train_test, \n",
    "              y_train, \n",
    "              cat_features=cat_index_test,\n",
    "              feature_names=list(x_train_test.columns))\n",
    "test_pool = Pool(x_valid_test,\n",
    "             y_valid,\n",
    "             cat_features=cat_index_test,\n",
    "             feature_names=list(x_valid_test.columns))"
   ]
  },
  {
   "cell_type": "code",
   "execution_count": 25,
   "id": "bf0a78f0",
   "metadata": {},
   "outputs": [
    {
     "name": "stderr",
     "output_type": "stream",
     "text": [
      "Custom logger is already specified. Specify more than one logger at same time is not thread safe."
     ]
    },
    {
     "name": "stdout",
     "output_type": "stream",
     "text": [
      "0:\tlearn: 0.4321508\ttest: 0.4527646\tbest: 0.4527646 (0)\ttotal: 5.1s\tremaining: 1h 24m 56s\n",
      "1:\tlearn: 0.4283485\ttest: 0.4469304\tbest: 0.4469304 (1)\ttotal: 9.28s\tremaining: 1h 17m 12s\n",
      "2:\tlearn: 0.4229813\ttest: 0.4416151\tbest: 0.4416151 (2)\ttotal: 12.5s\tremaining: 1h 9m 25s\n",
      "3:\tlearn: 0.4211707\ttest: 0.4404959\tbest: 0.4404959 (3)\ttotal: 16.8s\tremaining: 1h 9m 33s\n",
      "4:\tlearn: 0.4165335\ttest: 0.4357467\tbest: 0.4357467 (4)\ttotal: 21.2s\tremaining: 1h 10m 16s\n",
      "5:\tlearn: 0.4139448\ttest: 0.4329263\tbest: 0.4329263 (5)\ttotal: 25.3s\tremaining: 1h 9m 48s\n",
      "6:\tlearn: 0.4127582\ttest: 0.4316201\tbest: 0.4316201 (6)\ttotal: 29.3s\tremaining: 1h 9m 16s\n",
      "7:\tlearn: 0.4115530\ttest: 0.4304623\tbest: 0.4304623 (7)\ttotal: 33.5s\tremaining: 1h 9m 14s\n",
      "8:\tlearn: 0.4082776\ttest: 0.4272135\tbest: 0.4272135 (8)\ttotal: 38s\tremaining: 1h 9m 40s\n",
      "9:\tlearn: 0.4056360\ttest: 0.4246361\tbest: 0.4246361 (9)\ttotal: 42.1s\tremaining: 1h 9m 32s\n",
      "10:\tlearn: 0.4040417\ttest: 0.4238530\tbest: 0.4238530 (10)\ttotal: 46.8s\tremaining: 1h 10m 6s\n",
      "11:\tlearn: 0.4033184\ttest: 0.4233384\tbest: 0.4233384 (11)\ttotal: 51.4s\tremaining: 1h 10m 28s\n",
      "12:\tlearn: 0.4024700\ttest: 0.4227298\tbest: 0.4227298 (12)\ttotal: 55.2s\tremaining: 1h 9m 47s\n",
      "13:\tlearn: 0.4017106\ttest: 0.4221715\tbest: 0.4221715 (13)\ttotal: 58.8s\tremaining: 1h 9m 2s\n",
      "14:\tlearn: 0.4010705\ttest: 0.4210987\tbest: 0.4210987 (14)\ttotal: 1m 2s\tremaining: 1h 8m 41s\n",
      "15:\tlearn: 0.4006817\ttest: 0.4208649\tbest: 0.4208649 (15)\ttotal: 1m 5s\tremaining: 1h 7m 34s\n",
      "16:\tlearn: 0.4002757\ttest: 0.4205819\tbest: 0.4205819 (16)\ttotal: 1m 9s\tremaining: 1h 7m 27s\n",
      "17:\tlearn: 0.3993463\ttest: 0.4196335\tbest: 0.4196335 (17)\ttotal: 1m 14s\tremaining: 1h 7m 18s\n",
      "18:\tlearn: 0.3982496\ttest: 0.4186166\tbest: 0.4186166 (18)\ttotal: 1m 18s\tremaining: 1h 7m 36s\n",
      "19:\tlearn: 0.3976369\ttest: 0.4180130\tbest: 0.4180130 (19)\ttotal: 1m 22s\tremaining: 1h 7m 46s\n",
      "20:\tlearn: 0.3970799\ttest: 0.4185332\tbest: 0.4180130 (19)\ttotal: 1m 26s\tremaining: 1h 7m 15s\n",
      "21:\tlearn: 0.3968258\ttest: 0.4183599\tbest: 0.4180130 (19)\ttotal: 1m 30s\tremaining: 1h 6m 49s\n",
      "22:\tlearn: 0.3960923\ttest: 0.4178083\tbest: 0.4178083 (22)\ttotal: 1m 33s\tremaining: 1h 6m 31s\n",
      "23:\tlearn: 0.3953791\ttest: 0.4172419\tbest: 0.4172419 (23)\ttotal: 1m 37s\tremaining: 1h 6m 9s\n",
      "24:\tlearn: 0.3944430\ttest: 0.4164986\tbest: 0.4164986 (24)\ttotal: 1m 41s\tremaining: 1h 6m 9s\n",
      "25:\tlearn: 0.3941745\ttest: 0.4162697\tbest: 0.4162697 (25)\ttotal: 1m 45s\tremaining: 1h 5m 53s\n",
      "26:\tlearn: 0.3938546\ttest: 0.4161184\tbest: 0.4161184 (26)\ttotal: 1m 49s\tremaining: 1h 5m 49s\n",
      "27:\tlearn: 0.3930543\ttest: 0.4153663\tbest: 0.4153663 (27)\ttotal: 1m 53s\tremaining: 1h 5m 41s\n",
      "28:\tlearn: 0.3927700\ttest: 0.4151196\tbest: 0.4151196 (28)\ttotal: 1m 57s\tremaining: 1h 5m 26s\n",
      "29:\tlearn: 0.3925757\ttest: 0.4151389\tbest: 0.4151196 (28)\ttotal: 2m 1s\tremaining: 1h 5m 16s\n",
      "30:\tlearn: 0.3920694\ttest: 0.4160313\tbest: 0.4151196 (28)\ttotal: 2m 5s\tremaining: 1h 5m 11s\n",
      "31:\tlearn: 0.3919329\ttest: 0.4160011\tbest: 0.4151196 (28)\ttotal: 2m 9s\tremaining: 1h 5m 5s\n",
      "32:\tlearn: 0.3914912\ttest: 0.4158745\tbest: 0.4151196 (28)\ttotal: 2m 12s\tremaining: 1h 4m 53s\n",
      "33:\tlearn: 0.3911745\ttest: 0.4156315\tbest: 0.4151196 (28)\ttotal: 2m 16s\tremaining: 1h 4m 38s\n",
      "Stopped by overfitting detector  (5 iterations wait)\n",
      "\n",
      "bestTest = 0.415119609\n",
      "bestIteration = 28\n",
      "\n",
      "Shrink model to first 29 iterations.\n"
     ]
    },
    {
     "data": {
      "text/plain": [
       "<catboost.core.CatBoostRegressor at 0x7ff92106dcd0>"
      ]
     },
     "execution_count": 25,
     "metadata": {},
     "output_type": "execute_result"
    }
   ],
   "source": [
    "model.fit(train_pool, early_stopping_rounds=5, eval_set=test_pool, use_best_model=True)"
   ]
  },
  {
   "cell_type": "markdown",
   "id": "3e3060d4",
   "metadata": {},
   "source": [
    "## Reduced model 2\n",
    "Now in this model, includes the features that make most contribution to the original model and those related closely with time."
   ]
  },
  {
   "cell_type": "code",
   "execution_count": 27,
   "id": "aa6e00b4",
   "metadata": {},
   "outputs": [
    {
     "name": "stdout",
     "output_type": "stream",
     "text": [
      "0:\tlearn: 0.4789128\ttest: 0.4782384\tbest: 0.4782384 (0)\ttotal: 777ms\tremaining: 12m 55s\n",
      "1:\tlearn: 0.4662100\ttest: 0.4655953\tbest: 0.4655953 (1)\ttotal: 1.28s\tremaining: 10m 39s\n",
      "2:\tlearn: 0.4641980\ttest: 0.4634926\tbest: 0.4634926 (2)\ttotal: 1.77s\tremaining: 9m 47s\n",
      "3:\tlearn: 0.4610096\ttest: 0.4604179\tbest: 0.4604179 (3)\ttotal: 2.23s\tremaining: 9m 16s\n",
      "4:\tlearn: 0.4582268\ttest: 0.4576902\tbest: 0.4576902 (4)\ttotal: 2.7s\tremaining: 8m 58s\n",
      "5:\tlearn: 0.4576338\ttest: 0.4571449\tbest: 0.4571449 (5)\ttotal: 3.17s\tremaining: 8m 45s\n",
      "6:\tlearn: 0.4569970\ttest: 0.4566186\tbest: 0.4566186 (6)\ttotal: 3.63s\tremaining: 8m 34s\n",
      "7:\tlearn: 0.4568166\ttest: 0.4563221\tbest: 0.4563221 (7)\ttotal: 4.1s\tremaining: 8m 28s\n",
      "8:\tlearn: 0.4575235\ttest: 0.4571373\tbest: 0.4563221 (7)\ttotal: 4.57s\tremaining: 8m 23s\n",
      "9:\tlearn: 0.4573950\ttest: 0.4569710\tbest: 0.4563221 (7)\ttotal: 5.04s\tremaining: 8m 18s\n",
      "10:\tlearn: 0.4568143\ttest: 0.4564169\tbest: 0.4563221 (7)\ttotal: 5.51s\tremaining: 8m 15s\n",
      "11:\tlearn: 0.4556133\ttest: 0.4554930\tbest: 0.4554930 (11)\ttotal: 5.97s\tremaining: 8m 12s\n",
      "12:\tlearn: 0.4549290\ttest: 0.4547812\tbest: 0.4547812 (12)\ttotal: 6.44s\tremaining: 8m 9s\n",
      "13:\tlearn: 0.4545741\ttest: 0.4544037\tbest: 0.4544037 (13)\ttotal: 6.91s\tremaining: 8m 6s\n",
      "14:\tlearn: 0.4545442\ttest: 0.4544884\tbest: 0.4544037 (13)\ttotal: 7.38s\tremaining: 8m 4s\n",
      "15:\tlearn: 0.4536243\ttest: 0.4536198\tbest: 0.4536198 (15)\ttotal: 7.85s\tremaining: 8m 2s\n",
      "16:\tlearn: 0.4531019\ttest: 0.4531570\tbest: 0.4531570 (16)\ttotal: 8.3s\tremaining: 8m\n",
      "17:\tlearn: 0.4529475\ttest: 0.4530167\tbest: 0.4530167 (17)\ttotal: 8.77s\tremaining: 7m 58s\n",
      "18:\tlearn: 0.4524828\ttest: 0.4526375\tbest: 0.4526375 (18)\ttotal: 9.23s\tremaining: 7m 56s\n",
      "19:\tlearn: 0.4525063\ttest: 0.4526702\tbest: 0.4526375 (18)\ttotal: 9.69s\tremaining: 7m 55s\n",
      "20:\tlearn: 0.4523369\ttest: 0.4525234\tbest: 0.4525234 (20)\ttotal: 10.2s\tremaining: 7m 53s\n",
      "21:\tlearn: 0.4519660\ttest: 0.4521497\tbest: 0.4521497 (21)\ttotal: 10.6s\tremaining: 7m 52s\n",
      "22:\tlearn: 0.4519226\ttest: 0.4520396\tbest: 0.4520396 (22)\ttotal: 11.1s\tremaining: 7m 51s\n",
      "23:\tlearn: 0.4518998\ttest: 0.4520531\tbest: 0.4520396 (22)\ttotal: 11.6s\tremaining: 7m 49s\n",
      "24:\tlearn: 0.4519401\ttest: 0.4521561\tbest: 0.4520396 (22)\ttotal: 12s\tremaining: 7m 48s\n",
      "25:\tlearn: 0.4513467\ttest: 0.4516032\tbest: 0.4516032 (25)\ttotal: 12.5s\tremaining: 7m 47s\n",
      "26:\tlearn: 0.4513698\ttest: 0.4516148\tbest: 0.4516032 (25)\ttotal: 12.9s\tremaining: 7m 46s\n",
      "27:\tlearn: 0.4516603\ttest: 0.4518816\tbest: 0.4516032 (25)\ttotal: 13.4s\tremaining: 7m 44s\n",
      "28:\tlearn: 0.4516425\ttest: 0.4519058\tbest: 0.4516032 (25)\ttotal: 13.9s\tremaining: 7m 43s\n",
      "29:\tlearn: 0.4512062\ttest: 0.4515418\tbest: 0.4515418 (29)\ttotal: 14.3s\tremaining: 7m 43s\n",
      "30:\tlearn: 0.4511613\ttest: 0.4514855\tbest: 0.4514855 (30)\ttotal: 14.8s\tremaining: 7m 42s\n",
      "31:\tlearn: 0.4510833\ttest: 0.4514617\tbest: 0.4514617 (31)\ttotal: 15.2s\tremaining: 7m 41s\n",
      "32:\tlearn: 0.4512340\ttest: 0.4515515\tbest: 0.4514617 (31)\ttotal: 15.7s\tremaining: 7m 40s\n",
      "33:\tlearn: 0.4512609\ttest: 0.4516072\tbest: 0.4514617 (31)\ttotal: 16.2s\tremaining: 7m 39s\n",
      "34:\tlearn: 0.4511004\ttest: 0.4514663\tbest: 0.4514617 (31)\ttotal: 16.6s\tremaining: 7m 38s\n",
      "35:\tlearn: 0.4506061\ttest: 0.4509608\tbest: 0.4509608 (35)\ttotal: 17.1s\tremaining: 7m 38s\n",
      "36:\tlearn: 0.4499841\ttest: 0.4503312\tbest: 0.4503312 (36)\ttotal: 17.6s\tremaining: 7m 37s\n",
      "37:\tlearn: 0.4499549\ttest: 0.4503024\tbest: 0.4503024 (37)\ttotal: 18s\tremaining: 7m 36s\n",
      "38:\tlearn: 0.4500194\ttest: 0.4504299\tbest: 0.4503024 (37)\ttotal: 18.5s\tremaining: 7m 35s\n",
      "39:\tlearn: 0.4500483\ttest: 0.4504662\tbest: 0.4503024 (37)\ttotal: 19s\tremaining: 7m 34s\n",
      "40:\tlearn: 0.4500743\ttest: 0.4505320\tbest: 0.4503024 (37)\ttotal: 19.4s\tremaining: 7m 34s\n",
      "41:\tlearn: 0.4501018\ttest: 0.4505576\tbest: 0.4503024 (37)\ttotal: 19.9s\tremaining: 7m 33s\n",
      "42:\tlearn: 0.4500068\ttest: 0.4504653\tbest: 0.4503024 (37)\ttotal: 20.3s\tremaining: 7m 32s\n",
      "Stopped by overfitting detector  (5 iterations wait)\n",
      "\n",
      "bestTest = 0.4503024227\n",
      "bestIteration = 37\n",
      "\n",
      "Shrink model to first 38 iterations.\n"
     ]
    },
    {
     "data": {
      "text/plain": [
       "<catboost.core.CatBoostRegressor at 0x7ff92106dcd0>"
      ]
     },
     "execution_count": 27,
     "metadata": {},
     "output_type": "execute_result"
    }
   ],
   "source": [
    "x1_train = x_train[['carrier_max_estimate', 'carrier_min_estimate', 'acc_date', 'acc_hour', 'declared_handling_days']]\n",
    "x1_valid = x_valid[['carrier_max_estimate', 'carrier_min_estimate', 'acc_date', 'acc_hour', 'declared_handling_days']]\n",
    "#['shipping_method_id', 'dis', 'sender_state', 'package_size', 'seller_size', 'category_id', 'receive_state', 'cross_state','shipping_fee','item_price','weight','shipping_units','tz_dis','bt','quantity','cross_city']\n",
    "\n",
    "for idx, cn in enumerate(x1_train.columns):\n",
    "    if cn in cat_set_test:\n",
    "        cat_index_test.append(idx)\n",
    "\n",
    "train_pool = Pool(x1_train, \n",
    "              y_train, \n",
    "              feature_names=list(x1_train.columns))\n",
    "test_pool = Pool(x1_valid,\n",
    "             y_valid,\n",
    "             feature_names=list(x1_valid.columns))\n",
    "\n",
    "model.fit(train_pool, early_stopping_rounds=5, eval_set=test_pool, use_best_model=True)"
   ]
  },
  {
   "cell_type": "markdown",
   "id": "b9fb622d",
   "metadata": {},
   "source": [
    "## Reduced model 3\n",
    "Here are the models with features that, subjectively far away from reduced model 2. They are not related with time."
   ]
  },
  {
   "cell_type": "code",
   "execution_count": 29,
   "id": "34917515",
   "metadata": {},
   "outputs": [
    {
     "name": "stdout",
     "output_type": "stream",
     "text": [
      "0:\tlearn: 0.4444640\ttest: 0.4441097\tbest: 0.4441097 (0)\ttotal: 4.09s\tremaining: 1h 8m 2s\n",
      "1:\tlearn: 0.4317641\ttest: 0.4309330\tbest: 0.4309330 (1)\ttotal: 7.11s\tremaining: 59m 9s\n",
      "2:\tlearn: 0.4304258\ttest: 0.4294739\tbest: 0.4294739 (2)\ttotal: 10.6s\tremaining: 58m 57s\n",
      "3:\tlearn: 0.4271218\ttest: 0.4264659\tbest: 0.4264659 (3)\ttotal: 14.1s\tremaining: 58m 20s\n",
      "4:\tlearn: 0.4230744\ttest: 0.4227607\tbest: 0.4227607 (4)\ttotal: 17.7s\tremaining: 58m 43s\n",
      "5:\tlearn: 0.4217595\ttest: 0.4213621\tbest: 0.4213621 (5)\ttotal: 21.9s\tremaining: 1h 32s\n",
      "6:\tlearn: 0.4199158\ttest: 0.4195424\tbest: 0.4195424 (6)\ttotal: 26.7s\tremaining: 1h 3m 10s\n",
      "7:\tlearn: 0.4192399\ttest: 0.4190283\tbest: 0.4190283 (7)\ttotal: 30.6s\tremaining: 1h 3m 10s\n",
      "8:\tlearn: 0.4185026\ttest: 0.4180812\tbest: 0.4180812 (8)\ttotal: 34.2s\tremaining: 1h 2m 41s\n",
      "9:\tlearn: 0.4172195\ttest: 0.4168907\tbest: 0.4168907 (9)\ttotal: 38.3s\tremaining: 1h 3m 12s\n",
      "10:\tlearn: 0.4165323\ttest: 0.4161520\tbest: 0.4161520 (10)\ttotal: 41.6s\tremaining: 1h 2m 19s\n",
      "11:\tlearn: 0.4161305\ttest: 0.4157966\tbest: 0.4157966 (11)\ttotal: 44.5s\tremaining: 1h 1m 5s\n",
      "12:\tlearn: 0.4159798\ttest: 0.4154790\tbest: 0.4154790 (12)\ttotal: 48.3s\tremaining: 1h 1m 6s\n",
      "13:\tlearn: 0.4155528\ttest: 0.4153873\tbest: 0.4153873 (13)\ttotal: 51.1s\tremaining: 59m 58s\n",
      "14:\tlearn: 0.4156236\ttest: 0.4154051\tbest: 0.4153873 (13)\ttotal: 54.2s\tremaining: 59m 18s\n",
      "15:\tlearn: 0.4150117\ttest: 0.4148140\tbest: 0.4148140 (15)\ttotal: 57.6s\tremaining: 59m 2s\n",
      "16:\tlearn: 0.4145452\ttest: 0.4145310\tbest: 0.4145310 (16)\ttotal: 1m 1s\tremaining: 59m 9s\n",
      "17:\tlearn: 0.4144454\ttest: 0.4145300\tbest: 0.4145300 (17)\ttotal: 1m 4s\tremaining: 58m 24s\n",
      "18:\tlearn: 0.4138107\ttest: 0.4137418\tbest: 0.4137418 (18)\ttotal: 1m 7s\tremaining: 58m 16s\n",
      "19:\tlearn: 0.4140521\ttest: 0.4141025\tbest: 0.4137418 (18)\ttotal: 1m 11s\tremaining: 58m 11s\n",
      "20:\tlearn: 0.4137590\ttest: 0.4138580\tbest: 0.4137418 (18)\ttotal: 1m 15s\tremaining: 58m 23s\n",
      "21:\tlearn: 0.4135659\ttest: 0.4138008\tbest: 0.4137418 (18)\ttotal: 1m 19s\tremaining: 58m 36s\n",
      "22:\tlearn: 0.4135975\ttest: 0.4141333\tbest: 0.4137418 (18)\ttotal: 1m 22s\tremaining: 58m 23s\n",
      "23:\tlearn: 0.4134615\ttest: 0.4139836\tbest: 0.4137418 (18)\ttotal: 1m 25s\tremaining: 58m 9s\n",
      "Stopped by overfitting detector  (5 iterations wait)\n",
      "\n",
      "bestTest = 0.4137418205\n",
      "bestIteration = 18\n",
      "\n",
      "Shrink model to first 19 iterations.\n"
     ]
    },
    {
     "data": {
      "text/plain": [
       "<catboost.core.CatBoostRegressor at 0x7ff92106dcd0>"
      ]
     },
     "execution_count": 29,
     "metadata": {},
     "output_type": "execute_result"
    }
   ],
   "source": [
    "x2_train = x_train[['shipment_method_id', 'dis', 'sender_state', 'package_size', 'seller_size', 'category_id', 'receive_state', 'cross_state','shipping_fee','item_price','weight','shipping_units','tz_dis','bt','quantity','cross_city']]\n",
    "x2_valid = x_valid[['shipment_method_id', 'dis', 'sender_state', 'package_size', 'seller_size', 'category_id', 'receive_state', 'cross_state','shipping_fee','item_price','weight','shipping_units','tz_dis','bt','quantity','cross_city']]\n",
    "\n",
    "cat_index_test = []\n",
    "cat_set_test = set({\"shipment_method_id\", \"category_id\", \"bt\", \"package_size\",  \n",
    "\"cross_state\", \"sender_state\", \"receive_state\"})\n",
    "\n",
    "for idx, cn in enumerate(x2_train.columns):\n",
    "    if cn in cat_set_test:\n",
    "        cat_index_test.append(idx)\n",
    "\n",
    "train_pool = Pool(x2_train, \n",
    "              y_train, \n",
    "              cat_features=cat_index_test,\n",
    "              feature_names=list(x2_train.columns))\n",
    "test_pool = Pool(x2_valid,\n",
    "             y_valid,\n",
    "             cat_features=cat_index_test,\n",
    "             feature_names=list(x2_valid.columns))\n",
    "\n",
    "model.fit(train_pool, early_stopping_rounds=5, eval_set=test_pool, use_best_model=True)"
   ]
  },
  {
   "cell_type": "markdown",
   "id": "70bc53bd",
   "metadata": {},
   "source": [
    "## Conclusion"
   ]
  },
  {
   "cell_type": "markdown",
   "id": "b6490584",
   "metadata": {},
   "source": [
    "Sadly, neither model has a better performance than the original model :(  \n",
    "    So our following thought is: maybe the features are too few to make further progress? Following that, we investigate how we can invent more features..."
   ]
  }
 ],
 "metadata": {
  "kernelspec": {
   "display_name": "Python 3 (ipykernel)",
   "language": "python",
   "name": "python3"
  },
  "language_info": {
   "codemirror_mode": {
    "name": "ipython",
    "version": 3
   },
   "file_extension": ".py",
   "mimetype": "text/x-python",
   "name": "python",
   "nbconvert_exporter": "python",
   "pygments_lexer": "ipython3",
   "version": "3.9.7"
  }
 },
 "nbformat": 4,
 "nbformat_minor": 5
}
