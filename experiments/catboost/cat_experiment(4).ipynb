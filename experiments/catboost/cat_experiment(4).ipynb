{
 "cells": [
  {
   "cell_type": "markdown",
   "id": "efea0935",
   "metadata": {},
   "source": [
    "# Experiment on Features(4), CatBoost Model\n",
    "What about drop the best performing features?\n",
    "- The result is, the feature importance plot shows the other features are working in this way!  \n",
    "- However, the final result does not work that much. No leap in performance.  "
   ]
  },
  {
   "cell_type": "code",
   "execution_count": 1,
   "id": "bfbd4d88",
   "metadata": {},
   "outputs": [],
   "source": [
    "import numpy as np\n",
    "from catboost import Pool, CatBoostRegressor\n",
    "import json\n",
    "import pandas as pd\n",
    "from tqdm import trange\n",
    "from IPython.core.interactiveshell import InteractiveShell\n",
    "InteractiveShell.ast_node_interactivity = \"all\""
   ]
  },
  {
   "cell_type": "code",
   "execution_count": 2,
   "id": "eb0092e0",
   "metadata": {},
   "outputs": [],
   "source": [
    "to_drop = ['carrier_max_estimate', 'carrier_min_estimate']\n",
    "cat_set = set({\"shipment_method_id\", \"category_id\", \"bt\", \"package_size\", \"cross_city\", \"cross_state\"})"
   ]
  },
  {
   "cell_type": "code",
   "execution_count": 14,
   "id": "205075cd",
   "metadata": {},
   "outputs": [
    {
     "data": {
      "text/plain": [
       "['record_number',\n",
       " 'shipment_method_id',\n",
       " 'shipping_fee',\n",
       " 'carrier_min_estimate',\n",
       " 'carrier_max_estimate',\n",
       " 'category_id',\n",
       " 'item_price',\n",
       " 'quantity',\n",
       " 'declared_handling_days',\n",
       " 'bt',\n",
       " 'package_size',\n",
       " 'weight',\n",
       " 'tz_dis',\n",
       " 'dis',\n",
       " 'cross_city',\n",
       " 'cross_state',\n",
       " 'acc_hour',\n",
       " 'pay_hour',\n",
       " 'acc_date',\n",
       " 'target']"
      ]
     },
     "execution_count": 14,
     "metadata": {},
     "output_type": "execute_result"
    }
   ],
   "source": [
    "list(train_set.columns)"
   ]
  },
  {
   "cell_type": "code",
   "execution_count": 3,
   "id": "5f681caa",
   "metadata": {},
   "outputs": [
    {
     "name": "stdout",
     "output_type": "stream",
     "text": [
      "Index(['shipment_method_id', 'shipping_fee', 'category_id', 'item_price',\n",
      "       'quantity', 'declared_handling_days', 'bt', 'package_size', 'weight',\n",
      "       'tz_dis', 'dis', 'cross_city', 'cross_state', 'acc_hour', 'pay_hour',\n",
      "       'acc_date'],\n",
      "      dtype='object')\n"
     ]
    }
   ],
   "source": [
    "i = 5\n",
    "\n",
    "cb = CatBoostRegressor()\n",
    "model = cb.load_model('../para/no_cmax_min/catboost_{}.cbm'.format(i))\n",
    "\n",
    "train_set = pd.read_csv('../data/subtrain/train_{}.tsv'.format(i), sep='\\t')\n",
    "train_set['cross_city'] = train_set['cross_city'].astype('int')\n",
    "train_set['cross_state'] = train_set['cross_state'].astype('int')\n",
    "x_train = train_set.drop(['record_number', 'target'] + to_drop, axis=1)\n",
    "y_train = train_set.target\n",
    "\n",
    "print(x_train.columns)\n",
    "cat_index = []\n",
    "for idx, cn in enumerate(x_train.columns):\n",
    "    if cn in cat_set:\n",
    "        cat_index.append(idx)"
   ]
  },
  {
   "cell_type": "code",
   "execution_count": 4,
   "id": "164f90dd",
   "metadata": {},
   "outputs": [],
   "source": [
    "train_pool = Pool(x_train, \n",
    "              y_train, \n",
    "              cat_features=cat_index,\n",
    "              feature_names=list(x_train.columns))"
   ]
  },
  {
   "cell_type": "code",
   "execution_count": 5,
   "id": "cbf24083",
   "metadata": {},
   "outputs": [
    {
     "data": {
      "text/plain": [
       "16"
      ]
     },
     "execution_count": 5,
     "metadata": {},
     "output_type": "execute_result"
    }
   ],
   "source": [
    "len(x_train.columns)"
   ]
  },
  {
   "cell_type": "code",
   "execution_count": 6,
   "id": "b6c29d85",
   "metadata": {},
   "outputs": [],
   "source": [
    "feature_score = model.get_feature_importance(data=train_pool, type='ShapValues')\n",
    "# ShapValues: A vector with contributions of each feature to the prediction for every input object and \n",
    "# the expected value of the model prediction for the object (average prediction given no knowledge about the object).\n",
    "shap_val = np.sum(feature_score, axis=0)[:-1]"
   ]
  },
  {
   "cell_type": "code",
   "execution_count": 7,
   "id": "288b1fa0",
   "metadata": {},
   "outputs": [
    {
     "data": {
      "text/plain": [
       "array([25.24225614,  3.36686587,  5.12111049,  2.82551534,  0.35215566,\n",
       "        3.08239572,  1.2086868 ,  9.186488  ,  3.28941062,  4.58723452,\n",
       "       15.04091931,  0.08779989,  1.17603471,  8.75960047,  0.05203393,\n",
       "       16.62149254])"
      ]
     },
     "execution_count": 7,
     "metadata": {},
     "output_type": "execute_result"
    }
   ],
   "source": [
    "feature_importance = model.get_feature_importance(data=train_pool, type='FeatureImportance')\n",
    "feature_importance"
   ]
  },
  {
   "cell_type": "code",
   "execution_count": 8,
   "id": "b2336dd2",
   "metadata": {},
   "outputs": [
    {
     "data": {
      "text/plain": [
       "<AxesSubplot:>"
      ]
     },
     "execution_count": 8,
     "metadata": {},
     "output_type": "execute_result"
    },
    {
     "data": {
      "image/png": "[encoded data removed]",
      "text/plain": [
       "<Figure size 432x288 with 1 Axes>"
      ]
     },
     "metadata": {
      "needs_background": "light"
     },
     "output_type": "display_data"
    }
   ],
   "source": [
    "pd.Series(shap_val).plot.bar()"
   ]
  },
  {
   "cell_type": "code",
   "execution_count": 10,
   "id": "61fc58a9",
   "metadata": {},
   "outputs": [
    {
     "data": {
      "text/plain": [
       "<AxesSubplot:>"
      ]
     },
     "execution_count": 10,
     "metadata": {},
     "output_type": "execute_result"
    },
    {
     "data": {
      "image/png": "[encoded data removed]",
      "text/plain": [
       "<Figure size 432x288 with 1 Axes>"
      ]
     },
     "metadata": {
      "needs_background": "light"
     },
     "output_type": "display_data"
    }
   ],
   "source": [
    "# equal to feature_importance for non-ranking metrics \n",
    "pred_val_change = model.get_feature_importance(data=train_pool, type='PredictionValuesChange')\n",
    "pd.Series(pred_val_change).plot.bar()"
   ]
  },
  {
   "cell_type": "code",
   "execution_count": 11,
   "id": "24327321",
   "metadata": {},
   "outputs": [
    {
     "data": {
      "text/plain": [
       "<AxesSubplot:>"
      ]
     },
     "execution_count": 11,
     "metadata": {},
     "output_type": "execute_result"
    },
    {
     "data": {
      "image/png": "[encoded data removed]",
      "text/plain": [
       "<Figure size 432x288 with 1 Axes>"
      ]
     },
     "metadata": {
      "needs_background": "light"
     },
     "output_type": "display_data"
    }
   ],
   "source": [
    "loss_change_score = model.get_feature_importance(data=train_pool, type='LossFunctionChange')\n",
    "pd.Series(loss_change_score).plot.bar()"
   ]
  },
  {
   "cell_type": "code",
   "execution_count": 12,
   "id": "aab74ada",
   "metadata": {},
   "outputs": [
    {
     "data": {
      "text/html": [
       "<div>\n",
       "<style scoped>\n",
       "    .dataframe tbody tr th:only-of-type {\n",
       "        vertical-align: middle;\n",
       "    }\n",
       "\n",
       "    .dataframe tbody tr th {\n",
       "        vertical-align: top;\n",
       "    }\n",
       "\n",
       "    .dataframe thead th {\n",
       "        text-align: right;\n",
       "    }\n",
       "</style>\n",
       "<table border=\"1\" class=\"dataframe\">\n",
       "  <thead>\n",
       "    <tr style=\"text-align: right;\">\n",
       "      <th></th>\n",
       "      <th>feature_name</th>\n",
       "      <th>SHAP value</th>\n",
       "      <th>feature_importance</th>\n",
       "      <th>loss_change</th>\n",
       "    </tr>\n",
       "  </thead>\n",
       "  <tbody>\n",
       "    <tr>\n",
       "      <th>0</th>\n",
       "      <td>shipment_method_id</td>\n",
       "      <td>-60598.847466</td>\n",
       "      <td>25.242256</td>\n",
       "      <td>0.058498</td>\n",
       "    </tr>\n",
       "    <tr>\n",
       "      <th>1</th>\n",
       "      <td>shipping_fee</td>\n",
       "      <td>5742.413708</td>\n",
       "      <td>3.366866</td>\n",
       "      <td>0.000968</td>\n",
       "    </tr>\n",
       "    <tr>\n",
       "      <th>2</th>\n",
       "      <td>category_id</td>\n",
       "      <td>43091.904950</td>\n",
       "      <td>5.121110</td>\n",
       "      <td>0.003207</td>\n",
       "    </tr>\n",
       "    <tr>\n",
       "      <th>3</th>\n",
       "      <td>item_price</td>\n",
       "      <td>-11871.525636</td>\n",
       "      <td>2.825515</td>\n",
       "      <td>0.000689</td>\n",
       "    </tr>\n",
       "    <tr>\n",
       "      <th>4</th>\n",
       "      <td>quantity</td>\n",
       "      <td>-612.777541</td>\n",
       "      <td>0.352156</td>\n",
       "      <td>0.000119</td>\n",
       "    </tr>\n",
       "    <tr>\n",
       "      <th>5</th>\n",
       "      <td>declared_handling_days</td>\n",
       "      <td>10802.912008</td>\n",
       "      <td>3.082396</td>\n",
       "      <td>0.000769</td>\n",
       "    </tr>\n",
       "    <tr>\n",
       "      <th>6</th>\n",
       "      <td>bt</td>\n",
       "      <td>-13322.944694</td>\n",
       "      <td>1.208687</td>\n",
       "      <td>0.000297</td>\n",
       "    </tr>\n",
       "    <tr>\n",
       "      <th>7</th>\n",
       "      <td>package_size</td>\n",
       "      <td>28809.960175</td>\n",
       "      <td>9.186488</td>\n",
       "      <td>0.004992</td>\n",
       "    </tr>\n",
       "    <tr>\n",
       "      <th>8</th>\n",
       "      <td>weight</td>\n",
       "      <td>10476.514557</td>\n",
       "      <td>3.289411</td>\n",
       "      <td>0.001074</td>\n",
       "    </tr>\n",
       "    <tr>\n",
       "      <th>9</th>\n",
       "      <td>tz_dis</td>\n",
       "      <td>125352.827509</td>\n",
       "      <td>4.587235</td>\n",
       "      <td>0.003705</td>\n",
       "    </tr>\n",
       "    <tr>\n",
       "      <th>10</th>\n",
       "      <td>dis</td>\n",
       "      <td>-49215.009177</td>\n",
       "      <td>15.040919</td>\n",
       "      <td>0.020758</td>\n",
       "    </tr>\n",
       "    <tr>\n",
       "      <th>11</th>\n",
       "      <td>cross_city</td>\n",
       "      <td>1298.755131</td>\n",
       "      <td>0.087800</td>\n",
       "      <td>0.000116</td>\n",
       "    </tr>\n",
       "    <tr>\n",
       "      <th>12</th>\n",
       "      <td>cross_state</td>\n",
       "      <td>-63832.301624</td>\n",
       "      <td>1.176035</td>\n",
       "      <td>0.008251</td>\n",
       "    </tr>\n",
       "    <tr>\n",
       "      <th>13</th>\n",
       "      <td>acc_hour</td>\n",
       "      <td>-23949.055561</td>\n",
       "      <td>8.759600</td>\n",
       "      <td>0.005728</td>\n",
       "    </tr>\n",
       "    <tr>\n",
       "      <th>14</th>\n",
       "      <td>pay_hour</td>\n",
       "      <td>41.871861</td>\n",
       "      <td>0.052034</td>\n",
       "      <td>0.000024</td>\n",
       "    </tr>\n",
       "    <tr>\n",
       "      <th>15</th>\n",
       "      <td>acc_date</td>\n",
       "      <td>-1488.402381</td>\n",
       "      <td>16.621493</td>\n",
       "      <td>0.018096</td>\n",
       "    </tr>\n",
       "  </tbody>\n",
       "</table>\n",
       "</div>"
      ],
      "text/plain": [
       "              feature_name     SHAP value  feature_importance  loss_change\n",
       "0       shipment_method_id  -60598.847466           25.242256     0.058498\n",
       "1             shipping_fee    5742.413708            3.366866     0.000968\n",
       "2              category_id   43091.904950            5.121110     0.003207\n",
       "3               item_price  -11871.525636            2.825515     0.000689\n",
       "4                 quantity    -612.777541            0.352156     0.000119\n",
       "5   declared_handling_days   10802.912008            3.082396     0.000769\n",
       "6                       bt  -13322.944694            1.208687     0.000297\n",
       "7             package_size   28809.960175            9.186488     0.004992\n",
       "8                   weight   10476.514557            3.289411     0.001074\n",
       "9                   tz_dis  125352.827509            4.587235     0.003705\n",
       "10                     dis  -49215.009177           15.040919     0.020758\n",
       "11              cross_city    1298.755131            0.087800     0.000116\n",
       "12             cross_state  -63832.301624            1.176035     0.008251\n",
       "13                acc_hour  -23949.055561            8.759600     0.005728\n",
       "14                pay_hour      41.871861            0.052034     0.000024\n",
       "15                acc_date   -1488.402381           16.621493     0.018096"
      ]
     },
     "execution_count": 12,
     "metadata": {},
     "output_type": "execute_result"
    }
   ],
   "source": [
    "d = {'feature_name': x_train.columns, 'SHAP value': shap_val, 'feature_importance': feature_importance,'loss_change': loss_change_score}\n",
    "feature_score = pd.DataFrame(data=d)\n",
    "feature_score"
   ]
  },
  {
   "cell_type": "code",
   "execution_count": null,
   "id": "dfb591ea",
   "metadata": {},
   "outputs": [],
   "source": []
  },
  {
   "cell_type": "code",
   "execution_count": null,
   "id": "4d8e8a7d",
   "metadata": {},
   "outputs": [],
   "source": []
  }
 ],
 "metadata": {
  "kernelspec": {
   "display_name": "Python 3 (ipykernel)",
   "language": "python",
   "name": "python3"
  },
  "language_info": {
   "codemirror_mode": {
    "name": "ipython",
    "version": 3
   },
   "file_extension": ".py",
   "mimetype": "text/x-python",
   "name": "python",
   "nbconvert_exporter": "python",
   "pygments_lexer": "ipython3",
   "version": "3.9.7"
  }
 },
 "nbformat": 4,
 "nbformat_minor": 5
}
