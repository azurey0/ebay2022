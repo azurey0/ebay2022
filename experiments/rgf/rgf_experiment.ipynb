{
 "cells": [
  {
   "cell_type": "markdown",
   "id": "3d96495d",
   "metadata": {},
   "source": [
    "## RGF experiment\n",
    "- It is said to be more powerful than catboost by some Kaggler. So I had a try.  \n",
    "- The training takes 3+ hours so it's costly.  \n",
    "- The result is nearly the best, but not a leap in performance. So considering the time consumption, we discard this model."
   ]
  },
  {
   "cell_type": "code",
   "execution_count": 1,
   "id": "90fba7f7",
   "metadata": {},
   "outputs": [],
   "source": [
    "from rgf.sklearn import RGFRegressor\n",
    "import numpy as np\n",
    "import pandas as pd\n",
    "from IPython.core.interactiveshell import InteractiveShell\n",
    "InteractiveShell.ast_node_interactivity = \"all\"\n",
    "from rgf.sklearn import FastRGFRegressor, RGFRegressor"
   ]
  },
  {
   "cell_type": "code",
   "execution_count": null,
   "id": "d66e9351",
   "metadata": {},
   "outputs": [],
   "source": [
    "x_train = pd.read_csv('../data/subtrain/train_1.tsv', sep='\\t')\n",
    "x_valid = pd.read_csv('../data/subtrain/valid_1.tsv', sep='\\t')"
   ]
  },
  {
   "cell_type": "code",
   "execution_count": null,
   "id": "02f58632",
   "metadata": {},
   "outputs": [],
   "source": [
    "y_train = x_train.target\n",
    "x_train = x_train.drop(['record_number', 'target'], axis=1)\n",
    "y_valid = x_valid.target\n",
    "x_valid = x_valid.drop(['record_number', 'target'], axis=1)"
   ]
  },
  {
   "cell_type": "code",
   "execution_count": null,
   "id": "80fbb2d8",
   "metadata": {},
   "outputs": [],
   "source": [
    "x_train[:5]\n",
    "x_train.shape\n",
    "x_valid.shape\n",
    "y_train.shape\n",
    "y_valid.shape"
   ]
  },
  {
   "cell_type": "code",
   "execution_count": null,
   "id": "f911e774",
   "metadata": {},
   "outputs": [],
   "source": [
    "regressor = RGFRegressor(verbose=True)"
   ]
  },
  {
   "cell_type": "code",
   "execution_count": null,
   "id": "3f724981",
   "metadata": {},
   "outputs": [],
   "source": [
    "history = regressor.fit(x_train, y_train)"
   ]
  },
  {
   "cell_type": "code",
   "execution_count": null,
   "id": "3cbcc76f",
   "metadata": {},
   "outputs": [],
   "source": [
    "import pickle\n",
    "\n",
    "pickle.dump(regressor, open( \"../para/rgf.p\", \"wb\" ) )"
   ]
  },
  {
   "cell_type": "code",
   "execution_count": null,
   "id": "5eea706b",
   "metadata": {},
   "outputs": [],
   "source": [
    "load_file = pickle.load( open( \"../para/rgf.p\", \"rb\" ) )\n",
    "load_file.predict(x_valid)"
   ]
  },
  {
   "cell_type": "code",
   "execution_count": null,
   "id": "c2538d08",
   "metadata": {},
   "outputs": [],
   "source": [
    "y_pred = regressor.predict(x_valid)"
   ]
  },
  {
   "cell_type": "code",
   "execution_count": null,
   "id": "e4d2e7ad",
   "metadata": {},
   "outputs": [],
   "source": [
    "y_pred.shape"
   ]
  },
  {
   "cell_type": "code",
   "execution_count": null,
   "id": "9a0da75d",
   "metadata": {},
   "outputs": [],
   "source": [
    "preds = np.round(y_pred)\n",
    "residual = (y_valid - preds).astype(\"int\")\n",
    "loss = np.where(residual < 0, residual * -0.6, residual * 0.4) \n",
    "np.mean(loss)"
   ]
  },
  {
   "cell_type": "code",
   "execution_count": null,
   "id": "cde40f7a",
   "metadata": {},
   "outputs": [],
   "source": [
    "quiz_set = pd.read_csv('../data/parsed_quiz.tsv', sep='\\t')"
   ]
  },
  {
   "cell_type": "code",
   "execution_count": null,
   "id": "638717d1",
   "metadata": {},
   "outputs": [],
   "source": [
    "quiz_set.shape\n",
    "quiz_set.columns"
   ]
  },
  {
   "cell_type": "code",
   "execution_count": null,
   "id": "7ba380c6",
   "metadata": {},
   "outputs": [],
   "source": [
    "x_valid.shape\n",
    "x_valid.columns"
   ]
  },
  {
   "cell_type": "code",
   "execution_count": null,
   "id": "f877bd94",
   "metadata": {},
   "outputs": [],
   "source": [
    "record_number = quiz_set['record_number']\n",
    "quiz_pred_set = quiz_set.drop(['record_number'], axis = 1)\n",
    "record_number\n",
    "quiz_pred_set.shape"
   ]
  },
  {
   "cell_type": "code",
   "execution_count": null,
   "id": "3e8e9752",
   "metadata": {},
   "outputs": [],
   "source": [
    "quiz_pred = regressor.predict(quiz_pred_set)"
   ]
  },
  {
   "cell_type": "code",
   "execution_count": null,
   "id": "f7d25446",
   "metadata": {},
   "outputs": [],
   "source": [
    "real_quiz_set = pd.read_csv('../data/quiz.tsv', sep='\\t')"
   ]
  },
  {
   "cell_type": "code",
   "execution_count": null,
   "id": "fdd9e360",
   "metadata": {},
   "outputs": [],
   "source": [
    "real_quiz_set['target'] = pd.Series(np.round(quiz_pred))"
   ]
  },
  {
   "cell_type": "code",
   "execution_count": 6,
   "id": "415fe155",
   "metadata": {},
   "outputs": [],
   "source": [
    "from datetime import datetime, timedelta\n",
    "def add_func(row):\n",
    "    acct = row['acceptance_scan_timestamp']\n",
    "    dd = row['target']\n",
    "    cdate = datetime.strptime(acct.split()[0], \"%Y-%m-%d\")\n",
    "    cdate = cdate + timedelta(days=dd)\n",
    "    return cdate.strftime(\"%Y-%m-%d\")"
   ]
  },
  {
   "cell_type": "code",
   "execution_count": null,
   "id": "8866fb02",
   "metadata": {},
   "outputs": [],
   "source": [
    "res_set = real_quiz_set[['record_number', 'acceptance_scan_timestamp', 'target']]\n",
    "res_set['arrive_date'] = res_set.apply(add_func, axis=1)\n",
    "print(\"null res:\", sum(res_set['arrive_date'].isnull()))"
   ]
  },
  {
   "cell_type": "code",
   "execution_count": null,
   "id": "2ce8a9d6",
   "metadata": {},
   "outputs": [],
   "source": [
    "res_set.drop(columns=['acceptance_scan_timestamp', 'target']).to_csv('../result/rgf_result.tsv', header=None, index=None, sep='\\t')"
   ]
  },
  {
   "cell_type": "markdown",
   "id": "6fe1fd2d",
   "metadata": {},
   "source": [
    "### Some Tuning"
   ]
  },
  {
   "cell_type": "code",
   "execution_count": null,
   "id": "badc64b1",
   "metadata": {},
   "outputs": [],
   "source": [
    "train = pd.read_csv('../data/subtrain/train_1.tsv', sep='\\t')\n",
    "valid = pd.read_csv('../data/subtrain/valid_1.tsv', sep='\\t')"
   ]
  },
  {
   "cell_type": "code",
   "execution_count": null,
   "id": "b0802f6b",
   "metadata": {},
   "outputs": [],
   "source": [
    "s1_train = train.sample(frac = 0.1, random_state = 1)\n",
    "s1_valid = valid.sample(frac = 0.1, random_state = 1)\n",
    "y1_train = s1_train.target\n",
    "x1_train = s1_train.drop(['record_number', 'target'], axis=1)\n",
    "y1_valid = s1_valid.target\n",
    "x1_valid = s1_valid.drop(['record_number', 'target'], axis=1)"
   ]
  },
  {
   "cell_type": "code",
   "execution_count": null,
   "id": "1720ec4b",
   "metadata": {},
   "outputs": [],
   "source": [
    "regressor1 = RGFRegressor(verbose=True)\n",
    "history = regressor1.fit(x1_train, y1_train)"
   ]
  },
  {
   "cell_type": "code",
   "execution_count": null,
   "id": "829776c4",
   "metadata": {},
   "outputs": [],
   "source": [
    "y1_pred = regressor1.predict(x1_valid)\n",
    "preds = np.round(y1_pred)\n",
    "residual = (y1_valid - preds).astype(\"int\")\n",
    "loss = np.where(residual < 0, residual * -0.6, residual * 0.4) \n",
    "np.mean(loss)"
   ]
  },
  {
   "cell_type": "code",
   "execution_count": null,
   "id": "5758a88e",
   "metadata": {},
   "outputs": [],
   "source": [
    "regressor2 = RGFRegressor(verbose=True, l2=0.01)\n",
    "history = regressor2.fit(x1_train, y1_train)"
   ]
  },
  {
   "cell_type": "code",
   "execution_count": null,
   "id": "31d52cf7",
   "metadata": {},
   "outputs": [],
   "source": [
    "y2_pred = regressor2.predict(x1_valid)\n",
    "preds = np.round(y2_pred)\n",
    "residual = (y1_valid - preds).astype(\"int\")\n",
    "loss = np.where(residual < 0, residual * -0.6, residual * 0.4) \n",
    "np.mean(loss)"
   ]
  },
  {
   "cell_type": "code",
   "execution_count": null,
   "id": "f057b8dc",
   "metadata": {},
   "outputs": [],
   "source": [
    "regressor3 = RGFRegressor(l2=0.001)\n",
    "regressor3.fit(x1_train, y1_train)\n",
    "y3_pred = regressor3.predict(x1_valid)\n",
    "preds = np.round(y3_pred)\n",
    "residual = (y1_valid - preds).astype(\"int\")\n",
    "loss = np.where(residual < 0, residual * -0.6, residual * 0.4) \n",
    "np.mean(loss)"
   ]
  },
  {
   "cell_type": "markdown",
   "id": "70ff54f1",
   "metadata": {},
   "source": [
    "## Run with adjusted l2"
   ]
  },
  {
   "cell_type": "code",
   "execution_count": 2,
   "id": "c61b5d7f",
   "metadata": {},
   "outputs": [],
   "source": [
    "x_train = pd.read_csv('../data/subtrain/train_1.tsv', sep='\\t')\n",
    "x_valid = pd.read_csv('../data/subtrain/valid_1.tsv', sep='\\t')\n",
    "y_train = x_train.target\n",
    "x_train = x_train.drop(['record_number', 'target'], axis=1)\n",
    "y_valid = x_valid.target\n",
    "x_valid = x_valid.drop(['record_number', 'target'], axis=1)"
   ]
  },
  {
   "cell_type": "code",
   "execution_count": 3,
   "id": "e2685c6b",
   "metadata": {},
   "outputs": [
    {
     "name": "stderr",
     "output_type": "stream",
     "text": [
      "/home/zhangr235_gmail_com/anaconda3/envs/py38/lib/python3.8/site-packages/rgf/utils.py:224: UserWarning: Cannot find FastRGF executable files. FastRGF estimators will be unavailable for usage.\n",
      "  warnings.warn(\"Cannot find FastRGF executable files. \"\n"
     ]
    },
    {
     "name": "stdout",
     "output_type": "stream",
     "text": [
      "\"train\": \n",
      "   algorithm=RGF\n",
      "   train_x_fn=/tmp/rgf/1d667160-7cb0-42a8-bc58-2b0be78271851.train.data.x\n",
      "   train_y_fn=/tmp/rgf/1d667160-7cb0-42a8-bc58-2b0be78271851.train.data.y\n",
      "   Log:ON\n",
      "   model_fn_prefix=/tmp/rgf/1d667160-7cb0-42a8-bc58-2b0be78271851.model\n",
      "--------------------\n",
      "Sat Jan  1 22:14:47 2022: Reading training data ... \n",
      "Sat Jan  1 22:15:07 2022: Start ... #train=5889444\n",
      "--------------------\n",
      "Forest-level: \n",
      "   loss=LS\n",
      "   max_leaf_forest=500\n",
      "   max_tree=250\n",
      "   opt_interval=100\n",
      "   test_interval=100\n",
      "   num_tree_search=1\n",
      "   Verbose:ON\n",
      "   memory_policy=Generous\n",
      "-------------\n",
      "Training data: 17x5889444, nonzero_ratio=0.7941; managed as dense data.\n",
      "-------------\n",
      "Optimization: \n",
      "   loss=LS\n",
      "   num_iteration_opt=10\n",
      "   reg_L2=0.001\n",
      "   opt_stepsize=0.5\n",
      "   NormalizeTarget:ON\n",
      "Tree-level: min_pop=10\n",
      "Node split: reg_L2=0.001\n",
      "--------------------\n",
      "Sat Jan  1 22:21:18 2022: Calling optimizer with 21 trees and 100 leaves\n",
      "Sat Jan  1 22:21:53 2022: Writing model: seq#=1\n",
      "Sat Jan  1 22:27:21 2022: Calling optimizer with 28 trees and 200 leaves\n",
      "Sat Jan  1 22:28:07 2022: Writing model: seq#=2\n",
      "Sat Jan  1 22:32:51 2022: Calling optimizer with 34 trees and 300 leaves\n",
      "Sat Jan  1 22:33:51 2022: Writing model: seq#=3\n",
      "Sat Jan  1 22:38:35 2022: Calling optimizer with 45 trees and 400 leaves\n",
      "Sat Jan  1 22:39:50 2022: Writing model: seq#=4\n",
      "Sat Jan  1 22:45:13 2022: AzRgforest: #leaf reached max\n",
      "Sat Jan  1 22:45:13 2022: Calling optimizer with 60 trees and 501 leaves\n",
      "Sat Jan  1 22:46:48 2022: Writing model: seq#=5\n",
      "\n",
      "Generated 5 model file(s): \n",
      "/tmp/rgf/1d667160-7cb0-42a8-bc58-2b0be78271851.model-01\n",
      "/tmp/rgf/1d667160-7cb0-42a8-bc58-2b0be78271851.model-02\n",
      "/tmp/rgf/1d667160-7cb0-42a8-bc58-2b0be78271851.model-03\n",
      "/tmp/rgf/1d667160-7cb0-42a8-bc58-2b0be78271851.model-04\n",
      "/tmp/rgf/1d667160-7cb0-42a8-bc58-2b0be78271851.model-05\n",
      "\n",
      "Sat Jan  1 22:46:48 2022: Done ... \n",
      "elapsed: 1901.1\n",
      "\n"
     ]
    }
   ],
   "source": [
    "regressor = RGFRegressor(verbose=True, l2=0.001)\n",
    "history = regressor.fit(x_train, y_train)"
   ]
  },
  {
   "cell_type": "code",
   "execution_count": 4,
   "id": "020fa28d",
   "metadata": {},
   "outputs": [
    {
     "name": "stdout",
     "output_type": "stream",
     "text": [
      "\"predict\": \n",
      "   model_fn=/tmp/rgf/1d667160-7cb0-42a8-bc58-2b0be78271851.model-05\n",
      "   test_x_fn=/tmp/rgf/1d667160-7cb0-42a8-bc58-2b0be78271851.test.data.x\n",
      "   prediction_fn=/tmp/rgf/1d667160-7cb0-42a8-bc58-2b0be78271851.predictions.txt\n",
      "   Log:ON\n",
      "--------------------\n",
      "Sat Jan  1 23:33:34 2022: Reading test data ... \n",
      "Sat Jan  1 23:33:40 2022: Predicting ... \n",
      "elapsed: 6.11598\n",
      "/tmp/rgf/1d667160-7cb0-42a8-bc58-2b0be78271851.predictions.txt: /tmp/rgf/1d667160-7cb0-42a8-bc58-2b0be78271851.model-05,#leaf=501,#tree=60\n",
      "Sat Jan  1 23:35:08 2022: Done ... \n",
      "\n"
     ]
    }
   ],
   "source": [
    "quiz_set = pd.read_csv('../data/parsed_quiz.tsv', sep='\\t')\n",
    "quiz_pred_set = quiz_set.drop(['record_number'], axis = 1)\n",
    "quiz_pred = regressor.predict(quiz_pred_set)"
   ]
  },
  {
   "cell_type": "code",
   "execution_count": 7,
   "id": "62cd2882",
   "metadata": {},
   "outputs": [
    {
     "name": "stderr",
     "output_type": "stream",
     "text": [
      "/tmp/ipykernel_11951/2922784003.py:4: SettingWithCopyWarning: \n",
      "A value is trying to be set on a copy of a slice from a DataFrame.\n",
      "Try using .loc[row_indexer,col_indexer] = value instead\n",
      "\n",
      "See the caveats in the documentation: https://pandas.pydata.org/pandas-docs/stable/user_guide/indexing.html#returning-a-view-versus-a-copy\n",
      "  res_set['arrive_date'] = res_set.apply(add_func, axis=1)\n"
     ]
    },
    {
     "name": "stdout",
     "output_type": "stream",
     "text": [
      "null res: 0\n"
     ]
    }
   ],
   "source": [
    "real_quiz_set = pd.read_csv('../data/quiz.tsv', sep='\\t')\n",
    "real_quiz_set['target'] = pd.Series(np.round(quiz_pred))\n",
    "res_set = real_quiz_set[['record_number', 'acceptance_scan_timestamp', 'target']]\n",
    "res_set['arrive_date'] = res_set.apply(add_func, axis=1)\n",
    "print(\"null res:\", sum(res_set['arrive_date'].isnull()))\n",
    "res_set.drop(columns=['acceptance_scan_timestamp', 'target']).to_csv('../result/rgf2_result.tsv', header=None, index=None, sep='\\t')"
   ]
  }
 ],
 "metadata": {
  "kernelspec": {
   "display_name": "Python 3 (ipykernel)",
   "language": "python",
   "name": "python3"
  },
  "language_info": {
   "codemirror_mode": {
    "name": "ipython",
    "version": 3
   },
   "file_extension": ".py",
   "mimetype": "text/x-python",
   "name": "python",
   "nbconvert_exporter": "python",
   "pygments_lexer": "ipython3",
   "version": "3.9.7"
  }
 },
 "nbformat": 4,
 "nbformat_minor": 5
}
