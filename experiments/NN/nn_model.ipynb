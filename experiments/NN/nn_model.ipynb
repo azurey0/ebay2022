{
 "cells": [
  {
   "cell_type": "markdown",
   "id": "2e8b80be",
   "metadata": {},
   "source": [
    "# Initial build up of Neural Network Model"
   ]
  },
  {
   "cell_type": "code",
   "execution_count": 8,
   "id": "631b9c42",
   "metadata": {},
   "outputs": [],
   "source": [
    "import json\n",
    "import pandas as pd\n",
    "import numpy as np\n",
    "from sklearn.neural_network import MLPRegressor\n",
    "from sklearn.datasets import make_regression\n",
    "from sklearn.model_selection import train_test_split\n",
    "from keras import metrics\n",
    "\n",
    "import tensorflow as tf\n",
    "from tensorflow import keras\n",
    "from tensorflow.keras import layers\n",
    "\n",
    "from IPython.core.interactiveshell import InteractiveShell\n",
    "InteractiveShell.ast_node_interactivity = \"all\""
   ]
  },
  {
   "cell_type": "code",
   "execution_count": 3,
   "id": "9e1a2861",
   "metadata": {},
   "outputs": [],
   "source": [
    "# Get the data as Numpy arrays\n",
    "train_set = pd.read_csv('../data/subtrain/train_1.tsv', sep='\\t')\n",
    "train_set['cross_city'] = train_set['cross_city'].astype('int')\n",
    "train_set['cross_state'] = train_set['cross_state'].astype('int')\n",
    "valid_set = pd.read_csv('../data/subtrain/valid_1.tsv', sep='\\t')\n",
    "valid_set['cross_city'] = valid_set['cross_city'].astype('int')\n",
    "valid_set['cross_state'] = valid_set['cross_state'].astype('int')"
   ]
  },
  {
   "cell_type": "code",
   "execution_count": 4,
   "id": "0b44f4e7",
   "metadata": {},
   "outputs": [
    {
     "data": {
      "text/html": [
       "<div>\n",
       "<style scoped>\n",
       "    .dataframe tbody tr th:only-of-type {\n",
       "        vertical-align: middle;\n",
       "    }\n",
       "\n",
       "    .dataframe tbody tr th {\n",
       "        vertical-align: top;\n",
       "    }\n",
       "\n",
       "    .dataframe thead th {\n",
       "        text-align: right;\n",
       "    }\n",
       "</style>\n",
       "<table border=\"1\" class=\"dataframe\">\n",
       "  <thead>\n",
       "    <tr style=\"text-align: right;\">\n",
       "      <th></th>\n",
       "      <th>record_number</th>\n",
       "      <th>shipment_method_id</th>\n",
       "      <th>shipping_fee</th>\n",
       "      <th>carrier_min_estimate</th>\n",
       "      <th>carrier_max_estimate</th>\n",
       "      <th>category_id</th>\n",
       "      <th>item_price</th>\n",
       "      <th>quantity</th>\n",
       "      <th>bt</th>\n",
       "      <th>package_size</th>\n",
       "      <th>weight</th>\n",
       "      <th>tz_dis</th>\n",
       "      <th>dis</th>\n",
       "      <th>cross_city</th>\n",
       "      <th>cross_state</th>\n",
       "      <th>acc_hour</th>\n",
       "      <th>pay_hour</th>\n",
       "      <th>acc_date</th>\n",
       "      <th>target</th>\n",
       "    </tr>\n",
       "  </thead>\n",
       "  <tbody>\n",
       "    <tr>\n",
       "      <th>0</th>\n",
       "      <td>1503096</td>\n",
       "      <td>2</td>\n",
       "      <td>0.0</td>\n",
       "      <td>2</td>\n",
       "      <td>9</td>\n",
       "      <td>10</td>\n",
       "      <td>21.00</td>\n",
       "      <td>1</td>\n",
       "      <td>1</td>\n",
       "      <td>0</td>\n",
       "      <td>0.0</td>\n",
       "      <td>0.0</td>\n",
       "      <td>1.778966</td>\n",
       "      <td>1</td>\n",
       "      <td>1</td>\n",
       "      <td>7</td>\n",
       "      <td>19</td>\n",
       "      <td>20190104</td>\n",
       "      <td>3</td>\n",
       "    </tr>\n",
       "    <tr>\n",
       "      <th>1</th>\n",
       "      <td>1503097</td>\n",
       "      <td>0</td>\n",
       "      <td>3.5</td>\n",
       "      <td>3</td>\n",
       "      <td>5</td>\n",
       "      <td>3</td>\n",
       "      <td>1.40</td>\n",
       "      <td>1</td>\n",
       "      <td>0</td>\n",
       "      <td>0</td>\n",
       "      <td>0.0</td>\n",
       "      <td>-1.0</td>\n",
       "      <td>0.823542</td>\n",
       "      <td>1</td>\n",
       "      <td>1</td>\n",
       "      <td>21</td>\n",
       "      <td>9</td>\n",
       "      <td>20190107</td>\n",
       "      <td>2</td>\n",
       "    </tr>\n",
       "    <tr>\n",
       "      <th>2</th>\n",
       "      <td>1503098</td>\n",
       "      <td>7</td>\n",
       "      <td>0.0</td>\n",
       "      <td>2</td>\n",
       "      <td>5</td>\n",
       "      <td>4</td>\n",
       "      <td>0.99</td>\n",
       "      <td>1</td>\n",
       "      <td>0</td>\n",
       "      <td>0</td>\n",
       "      <td>13.0</td>\n",
       "      <td>-1.0</td>\n",
       "      <td>1.184160</td>\n",
       "      <td>1</td>\n",
       "      <td>1</td>\n",
       "      <td>15</td>\n",
       "      <td>8</td>\n",
       "      <td>20190109</td>\n",
       "      <td>2</td>\n",
       "    </tr>\n",
       "    <tr>\n",
       "      <th>3</th>\n",
       "      <td>1503099</td>\n",
       "      <td>5</td>\n",
       "      <td>6.9</td>\n",
       "      <td>2</td>\n",
       "      <td>5</td>\n",
       "      <td>0</td>\n",
       "      <td>9.00</td>\n",
       "      <td>1</td>\n",
       "      <td>1</td>\n",
       "      <td>0</td>\n",
       "      <td>0.0</td>\n",
       "      <td>-4.0</td>\n",
       "      <td>3.897320</td>\n",
       "      <td>1</td>\n",
       "      <td>1</td>\n",
       "      <td>14</td>\n",
       "      <td>15</td>\n",
       "      <td>20190128</td>\n",
       "      <td>2</td>\n",
       "    </tr>\n",
       "    <tr>\n",
       "      <th>4</th>\n",
       "      <td>1503100</td>\n",
       "      <td>0</td>\n",
       "      <td>3.5</td>\n",
       "      <td>3</td>\n",
       "      <td>5</td>\n",
       "      <td>6</td>\n",
       "      <td>28.60</td>\n",
       "      <td>1</td>\n",
       "      <td>0</td>\n",
       "      <td>0</td>\n",
       "      <td>3.0</td>\n",
       "      <td>-1.0</td>\n",
       "      <td>1.003335</td>\n",
       "      <td>1</td>\n",
       "      <td>1</td>\n",
       "      <td>14</td>\n",
       "      <td>13</td>\n",
       "      <td>20190102</td>\n",
       "      <td>3</td>\n",
       "    </tr>\n",
       "  </tbody>\n",
       "</table>\n",
       "</div>"
      ],
      "text/plain": [
       "   record_number  shipment_method_id  shipping_fee  carrier_min_estimate  \\\n",
       "0        1503096                   2           0.0                     2   \n",
       "1        1503097                   0           3.5                     3   \n",
       "2        1503098                   7           0.0                     2   \n",
       "3        1503099                   5           6.9                     2   \n",
       "4        1503100                   0           3.5                     3   \n",
       "\n",
       "   carrier_max_estimate  category_id  item_price  quantity  bt  package_size  \\\n",
       "0                     9           10       21.00         1   1             0   \n",
       "1                     5            3        1.40         1   0             0   \n",
       "2                     5            4        0.99         1   0             0   \n",
       "3                     5            0        9.00         1   1             0   \n",
       "4                     5            6       28.60         1   0             0   \n",
       "\n",
       "   weight  tz_dis       dis  cross_city  cross_state  acc_hour  pay_hour  \\\n",
       "0     0.0     0.0  1.778966           1            1         7        19   \n",
       "1     0.0    -1.0  0.823542           1            1        21         9   \n",
       "2    13.0    -1.0  1.184160           1            1        15         8   \n",
       "3     0.0    -4.0  3.897320           1            1        14        15   \n",
       "4     3.0    -1.0  1.003335           1            1        14        13   \n",
       "\n",
       "   acc_date  target  \n",
       "0  20190104       3  \n",
       "1  20190107       2  \n",
       "2  20190109       2  \n",
       "3  20190128       2  \n",
       "4  20190102       3  "
      ]
     },
     "execution_count": 4,
     "metadata": {},
     "output_type": "execute_result"
    },
    {
     "data": {
      "text/plain": [
       "(5889444, 19)"
      ]
     },
     "execution_count": 4,
     "metadata": {},
     "output_type": "execute_result"
    },
    {
     "data": {
      "text/plain": [
       "(654382, 19)"
      ]
     },
     "execution_count": 4,
     "metadata": {},
     "output_type": "execute_result"
    }
   ],
   "source": [
    "train_set[:5]\n",
    "train_set.shape\n",
    "valid_set.shape"
   ]
  },
  {
   "cell_type": "code",
   "execution_count": 5,
   "id": "918f9b01",
   "metadata": {},
   "outputs": [],
   "source": [
    "x_train_valid = pd.concat([train_set, valid_set])"
   ]
  },
  {
   "cell_type": "code",
   "execution_count": 6,
   "id": "b818cd35",
   "metadata": {},
   "outputs": [],
   "source": [
    "c1 = pd.get_dummies(x_train_valid.shipment_method_id, prefix='sm')\n",
    "c2 = pd.get_dummies(x_train_valid.category_id, prefix='ci')\n",
    "c3 = pd.get_dummies(x_train_valid.package_size, prefix='ps')\n",
    "c4 = pd.get_dummies(x_train_valid.cross_city, prefix='cc')\n",
    "c5 = pd.get_dummies(x_train_valid.cross_state, prefix='cs')\n",
    "x_train_valid = pd.concat([x_train_valid.drop(['record_number', 'target', 'shipment_method_id', 'category_id', 'package_size', 'cross_city', 'cross_state'], axis=1), \n",
    "               c1, c2, c3, c4, c5], axis=1)"
   ]
  },
  {
   "cell_type": "code",
   "execution_count": 7,
   "id": "5c3fd32a",
   "metadata": {},
   "outputs": [
    {
     "data": {
      "text/plain": [
       "(5889444, 82)"
      ]
     },
     "execution_count": 7,
     "metadata": {},
     "output_type": "execute_result"
    },
    {
     "data": {
      "text/plain": [
       "(654382, 82)"
      ]
     },
     "execution_count": 7,
     "metadata": {},
     "output_type": "execute_result"
    }
   ],
   "source": [
    "x_train = x_train_valid[:train_set.shape[0]]\n",
    "x_valid = x_train_valid[train_set.shape[0]:]\n",
    "x_train.shape\n",
    "x_valid.shape"
   ]
  },
  {
   "cell_type": "code",
   "execution_count": 8,
   "id": "18a1a543",
   "metadata": {},
   "outputs": [
    {
     "name": "stdout",
     "output_type": "stream",
     "text": [
      "(5889444, 82) (5889444,) (654382, 82) (654382,)\n"
     ]
    }
   ],
   "source": [
    "y_train = train_set.target\n",
    "y_valid = valid_set.target\n",
    "\n",
    "print(x_train.shape, y_train.shape, x_valid.shape, y_valid.shape)"
   ]
  },
  {
   "cell_type": "code",
   "execution_count": 9,
   "id": "bcf1f171",
   "metadata": {},
   "outputs": [
    {
     "name": "stdout",
     "output_type": "stream",
     "text": [
      "Model: \"model\"\n",
      "_________________________________________________________________\n",
      " Layer (type)                Output Shape              Param #   \n",
      "=================================================================\n",
      " input_1 (InputLayer)        [(None, 82)]              0         \n",
      "                                                                 \n",
      " dense (Dense)               (None, 512)               42496     \n",
      "                                                                 \n",
      " dropout (Dropout)           (None, 512)               0         \n",
      "                                                                 \n",
      " dense_1 (Dense)             (None, 256)               131328    \n",
      "                                                                 \n",
      " dropout_1 (Dropout)         (None, 256)               0         \n",
      "                                                                 \n",
      " dense_2 (Dense)             (None, 256)               65792     \n",
      "                                                                 \n",
      " dropout_2 (Dropout)         (None, 256)               0         \n",
      "                                                                 \n",
      " dense_3 (Dense)             (None, 256)               65792     \n",
      "                                                                 \n",
      " dropout_3 (Dropout)         (None, 256)               0         \n",
      "                                                                 \n",
      " dense_4 (Dense)             (None, 1)                 257       \n",
      "                                                                 \n",
      "=================================================================\n",
      "Total params: 305,665\n",
      "Trainable params: 305,665\n",
      "Non-trainable params: 0\n",
      "_________________________________________________________________\n"
     ]
    }
   ],
   "source": [
    "# Build a simple model\n",
    "inputs = keras.Input(shape=(82,))\n",
    "x = layers.Dense(512, activation=\"sigmoid\")(inputs)\n",
    "x = layers.Dropout(0.4)(x)\n",
    "x = layers.Dense(256, activation=\"sigmoid\")(x)\n",
    "x = layers.Dropout(0.4)(x)\n",
    "x = layers.Dense(256, activation=\"tanh\")(x)\n",
    "x = layers.Dropout(0.4)(x)\n",
    "x = layers.Dense(256, activation=\"tanh\")(x)\n",
    "x = layers.Dropout(0.4)(x)\n",
    "outputs = layers.Dense(1, activation=\"relu\")(x)\n",
    "model = keras.Model(inputs, outputs)\n",
    "model.summary()"
   ]
  },
  {
   "cell_type": "code",
   "execution_count": 10,
   "id": "1c96fcc9",
   "metadata": {},
   "outputs": [
    {
     "data": {
      "text/plain": [
       "{'name': 'model',\n",
       " 'layers': [{'class_name': 'InputLayer',\n",
       "   'config': {'batch_input_shape': (None, 82),\n",
       "    'dtype': 'float32',\n",
       "    'sparse': False,\n",
       "    'ragged': False,\n",
       "    'name': 'input_1'},\n",
       "   'name': 'input_1',\n",
       "   'inbound_nodes': []},\n",
       "  {'class_name': 'Dense',\n",
       "   'config': {'name': 'dense',\n",
       "    'trainable': True,\n",
       "    'dtype': 'float32',\n",
       "    'units': 512,\n",
       "    'activation': 'sigmoid',\n",
       "    'use_bias': True,\n",
       "    'kernel_initializer': {'class_name': 'GlorotUniform',\n",
       "     'config': {'seed': None}},\n",
       "    'bias_initializer': {'class_name': 'Zeros', 'config': {}},\n",
       "    'kernel_regularizer': None,\n",
       "    'bias_regularizer': None,\n",
       "    'activity_regularizer': None,\n",
       "    'kernel_constraint': None,\n",
       "    'bias_constraint': None},\n",
       "   'name': 'dense',\n",
       "   'inbound_nodes': [[['input_1', 0, 0, {}]]]},\n",
       "  {'class_name': 'Dropout',\n",
       "   'config': {'name': 'dropout',\n",
       "    'trainable': True,\n",
       "    'dtype': 'float32',\n",
       "    'rate': 0.4,\n",
       "    'noise_shape': None,\n",
       "    'seed': None},\n",
       "   'name': 'dropout',\n",
       "   'inbound_nodes': [[['dense', 0, 0, {}]]]},\n",
       "  {'class_name': 'Dense',\n",
       "   'config': {'name': 'dense_1',\n",
       "    'trainable': True,\n",
       "    'dtype': 'float32',\n",
       "    'units': 256,\n",
       "    'activation': 'sigmoid',\n",
       "    'use_bias': True,\n",
       "    'kernel_initializer': {'class_name': 'GlorotUniform',\n",
       "     'config': {'seed': None}},\n",
       "    'bias_initializer': {'class_name': 'Zeros', 'config': {}},\n",
       "    'kernel_regularizer': None,\n",
       "    'bias_regularizer': None,\n",
       "    'activity_regularizer': None,\n",
       "    'kernel_constraint': None,\n",
       "    'bias_constraint': None},\n",
       "   'name': 'dense_1',\n",
       "   'inbound_nodes': [[['dropout', 0, 0, {}]]]},\n",
       "  {'class_name': 'Dropout',\n",
       "   'config': {'name': 'dropout_1',\n",
       "    'trainable': True,\n",
       "    'dtype': 'float32',\n",
       "    'rate': 0.4,\n",
       "    'noise_shape': None,\n",
       "    'seed': None},\n",
       "   'name': 'dropout_1',\n",
       "   'inbound_nodes': [[['dense_1', 0, 0, {}]]]},\n",
       "  {'class_name': 'Dense',\n",
       "   'config': {'name': 'dense_2',\n",
       "    'trainable': True,\n",
       "    'dtype': 'float32',\n",
       "    'units': 256,\n",
       "    'activation': 'tanh',\n",
       "    'use_bias': True,\n",
       "    'kernel_initializer': {'class_name': 'GlorotUniform',\n",
       "     'config': {'seed': None}},\n",
       "    'bias_initializer': {'class_name': 'Zeros', 'config': {}},\n",
       "    'kernel_regularizer': None,\n",
       "    'bias_regularizer': None,\n",
       "    'activity_regularizer': None,\n",
       "    'kernel_constraint': None,\n",
       "    'bias_constraint': None},\n",
       "   'name': 'dense_2',\n",
       "   'inbound_nodes': [[['dropout_1', 0, 0, {}]]]},\n",
       "  {'class_name': 'Dropout',\n",
       "   'config': {'name': 'dropout_2',\n",
       "    'trainable': True,\n",
       "    'dtype': 'float32',\n",
       "    'rate': 0.4,\n",
       "    'noise_shape': None,\n",
       "    'seed': None},\n",
       "   'name': 'dropout_2',\n",
       "   'inbound_nodes': [[['dense_2', 0, 0, {}]]]},\n",
       "  {'class_name': 'Dense',\n",
       "   'config': {'name': 'dense_3',\n",
       "    'trainable': True,\n",
       "    'dtype': 'float32',\n",
       "    'units': 256,\n",
       "    'activation': 'tanh',\n",
       "    'use_bias': True,\n",
       "    'kernel_initializer': {'class_name': 'GlorotUniform',\n",
       "     'config': {'seed': None}},\n",
       "    'bias_initializer': {'class_name': 'Zeros', 'config': {}},\n",
       "    'kernel_regularizer': None,\n",
       "    'bias_regularizer': None,\n",
       "    'activity_regularizer': None,\n",
       "    'kernel_constraint': None,\n",
       "    'bias_constraint': None},\n",
       "   'name': 'dense_3',\n",
       "   'inbound_nodes': [[['dropout_2', 0, 0, {}]]]},\n",
       "  {'class_name': 'Dropout',\n",
       "   'config': {'name': 'dropout_3',\n",
       "    'trainable': True,\n",
       "    'dtype': 'float32',\n",
       "    'rate': 0.4,\n",
       "    'noise_shape': None,\n",
       "    'seed': None},\n",
       "   'name': 'dropout_3',\n",
       "   'inbound_nodes': [[['dense_3', 0, 0, {}]]]},\n",
       "  {'class_name': 'Dense',\n",
       "   'config': {'name': 'dense_4',\n",
       "    'trainable': True,\n",
       "    'dtype': 'float32',\n",
       "    'units': 1,\n",
       "    'activation': 'relu',\n",
       "    'use_bias': True,\n",
       "    'kernel_initializer': {'class_name': 'GlorotUniform',\n",
       "     'config': {'seed': None}},\n",
       "    'bias_initializer': {'class_name': 'Zeros', 'config': {}},\n",
       "    'kernel_regularizer': None,\n",
       "    'bias_regularizer': None,\n",
       "    'activity_regularizer': None,\n",
       "    'kernel_constraint': None,\n",
       "    'bias_constraint': None},\n",
       "   'name': 'dense_4',\n",
       "   'inbound_nodes': [[['dropout_3', 0, 0, {}]]]}],\n",
       " 'input_layers': [['input_1', 0, 0]],\n",
       " 'output_layers': [['dense_4', 0, 0]]}"
      ]
     },
     "execution_count": 10,
     "metadata": {},
     "output_type": "execute_result"
    }
   ],
   "source": [
    "model.get_config()"
   ]
  },
  {
   "cell_type": "code",
   "execution_count": 5,
   "id": "65987483",
   "metadata": {},
   "outputs": [],
   "source": [
    "def custom_asymmetric_eval(y_train, preds):\n",
    "    nd_preds = tf.math.round(preds)\n",
    "    residual = y_train - nd_preds\n",
    "    loss = tf.where(residual < 0, residual * -0.6, residual * 0.4) \n",
    "    return tf.math.reduce_mean(loss)"
   ]
  },
  {
   "cell_type": "code",
   "execution_count": 1,
   "id": "350e0df1",
   "metadata": {},
   "outputs": [
    {
     "name": "stderr",
     "output_type": "stream",
     "text": [
      "2021-12-30 02:38:35.652431: W tensorflow/stream_executor/platform/default/dso_loader.cc:64] Could not load dynamic library 'libcudart.so.11.0'; dlerror: libcudart.so.11.0: cannot open shared object file: No such file or directory\n",
      "2021-12-30 02:38:35.652492: I tensorflow/stream_executor/cuda/cudart_stub.cc:29] Ignore above cudart dlerror if you do not have a GPU set up on your machine.\n"
     ]
    }
   ],
   "source": [
    "from keras.callbacks import CSVLogger"
   ]
  },
  {
   "cell_type": "code",
   "execution_count": null,
   "id": "eab4d649",
   "metadata": {
    "scrolled": true
   },
   "outputs": [],
   "source": [
    "# callback = tf.keras.callbacks.EarlyStopping(monitor='custom_asymmetric_eval', patience=3)\n",
    "# Compile the model\n",
    "model.compile(optimizer=\"adam\", loss=\"mean_squared_error\", metrics = [custom_asymmetric_eval])\n",
    "\n",
    "callbacks = [tf.keras.callbacks.EarlyStopping(monitor='custom_asymmetric_eval', patience=3),\n",
    "                 CSVLogger('../result/Keraslog.csv', append=False, separator=';')]\n",
    "batch_size = 256\n",
    "history = model.fit(x_train, y_train, batch_size=batch_size, epochs=1, validation_data=(x_valid, y_valid),callbacks=[callbacks])"
   ]
  },
  {
   "cell_type": "code",
   "execution_count": 45,
   "id": "4e2fcfc7",
   "metadata": {},
   "outputs": [
    {
     "data": {
      "text/plain": [
       "0.4852772355079651"
      ]
     },
     "execution_count": 45,
     "metadata": {},
     "output_type": "execute_result"
    }
   ],
   "source": [
    "logstr = pd.read_csv(\"../result/Keraslog.csv\", sep = ';')\n"
   ]
  },
  {
   "cell_type": "code",
   "execution_count": 46,
   "id": "b9689ebd",
   "metadata": {},
   "outputs": [],
   "source": [
    "loss_and_output = []\n",
    "loss_and_output.append(float(logstr.val_custom_asymmetric_eval))"
   ]
  },
  {
   "cell_type": "code",
   "execution_count": 47,
   "id": "08e22115",
   "metadata": {},
   "outputs": [
    {
     "data": {
      "text/plain": [
       "[0.4852772355079651]"
      ]
     },
     "execution_count": 47,
     "metadata": {},
     "output_type": "execute_result"
    },
    {
     "data": {
      "text/plain": [
       "1.0"
      ]
     },
     "execution_count": 47,
     "metadata": {},
     "output_type": "execute_result"
    }
   ],
   "source": [
    "loss_and_output\n",
    "lao = np.array([1 / x for x in loss_and_output])\n",
    "\n",
    "lao = lao / lao.sum()\n",
    "lao[0]"
   ]
  },
  {
   "cell_type": "code",
   "execution_count": 20,
   "id": "6cc1db9f",
   "metadata": {},
   "outputs": [],
   "source": [
    "# load model and predict\n",
    "from keras.models import load_model\n",
    "#custom_objects = {\"custom_metric\": custom_asymmetric_eval}\n",
    "model = load_model('../para/nn_9.h5', custom_objects={'custom_asymmetric_eval': custom_asymmetric_eval})"
   ]
  },
  {
   "cell_type": "code",
   "execution_count": 31,
   "id": "e027b839",
   "metadata": {},
   "outputs": [],
   "source": [
    "quiz_set = pd.read_csv('../data/parsed_quiz_cat.tsv', sep='\\t')"
   ]
  },
  {
   "cell_type": "code",
   "execution_count": 32,
   "id": "f7e3a9e1",
   "metadata": {},
   "outputs": [],
   "source": [
    "quiz_set.drop(['record_number'], axis=1, inplace=True)"
   ]
  },
  {
   "cell_type": "code",
   "execution_count": 33,
   "id": "45dad2f8",
   "metadata": {},
   "outputs": [
    {
     "data": {
      "text/plain": [
       "(2500000, 82)"
      ]
     },
     "execution_count": 33,
     "metadata": {},
     "output_type": "execute_result"
    }
   ],
   "source": [
    "quiz_set.shape"
   ]
  },
  {
   "cell_type": "code",
   "execution_count": 34,
   "id": "ccd29c14",
   "metadata": {},
   "outputs": [
    {
     "name": "stderr",
     "output_type": "stream",
     "text": [
      "2021-12-30 21:33:09.192525: W tensorflow/core/framework/cpu_allocator_impl.cc:82] Allocation of 1640000000 exceeds 10% of free system memory.\n"
     ]
    }
   ],
   "source": [
    "y_pred = model.predict(quiz_set)"
   ]
  },
  {
   "cell_type": "code",
   "execution_count": 38,
   "id": "db9d49e5",
   "metadata": {},
   "outputs": [
    {
     "data": {
      "text/plain": [
       "array([[2.9306798],\n",
       "       [2.9306798],\n",
       "       [2.9306798],\n",
       "       ...,\n",
       "       [2.9306798],\n",
       "       [2.9306798],\n",
       "       [2.9306798]], dtype=float32)"
      ]
     },
     "execution_count": 38,
     "metadata": {},
     "output_type": "execute_result"
    }
   ],
   "source": [
    "y_pred"
   ]
  }
 ],
 "metadata": {
  "kernelspec": {
   "display_name": "Python 3 (ipykernel)",
   "language": "python",
   "name": "python3"
  },
  "language_info": {
   "codemirror_mode": {
    "name": "ipython",
    "version": 3
   },
   "file_extension": ".py",
   "mimetype": "text/x-python",
   "name": "python",
   "nbconvert_exporter": "python",
   "pygments_lexer": "ipython3",
   "version": "3.9.7"
  }
 },
 "nbformat": 4,
 "nbformat_minor": 5
}
