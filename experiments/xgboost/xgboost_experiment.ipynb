{
 "cells": [
  {
   "cell_type": "markdown",
   "id": "430cb4a0",
   "metadata": {},
   "source": [
    "## XGBoost experiment\n",
    "- Is the prediction of XGBoost too skewed? or too normal?"
   ]
  },
  {
   "cell_type": "code",
   "execution_count": 16,
   "id": "7cf552de",
   "metadata": {},
   "outputs": [],
   "source": [
    "import xgboost as xgb\n",
    "import json\n",
    "import pandas as pd\n",
    "import numpy as np\n",
    "from IPython.core.interactiveshell import InteractiveShell\n",
    "InteractiveShell.ast_node_interactivity = \"all\""
   ]
  },
  {
   "cell_type": "code",
   "execution_count": 6,
   "id": "38bd1cba",
   "metadata": {},
   "outputs": [],
   "source": [
    "folds = 10\n",
    "num_rounds = 15\n",
    "esr = 3\n",
    "\n",
    "params = {\n",
    "        'booster': 'gbtree',\n",
    "        'objective': 'reg:squarederror',\n",
    "        # larger -> under fit\n",
    "        'gamma': 0,\n",
    "        'max_depth': 10,\n",
    "        # L2 Reg\n",
    "        'lambda': 1,\n",
    "        'subsample': 0.7,\n",
    "        'colsample_bytree': 1,\n",
    "        # child node number\n",
    "        'min_child_weight': 3,\n",
    "        # shrinkage\n",
    "        'eta': 0.3,\n",
    "        'seed': 1000,\n",
    "        'nthread': 8,\n",
    "    }\n",
    "\n",
    "def custom_asymmetric_eval(preds, train_data):\n",
    "    labels = train_data.get_label()\n",
    "    preds = np.round(preds)\n",
    "    residual = (labels - preds).astype(\"int\")\n",
    "    loss = np.where(residual < 0, residual * -0.6, residual * 0.4) \n",
    "    return \"ebay_loss\", np.mean(loss)"
   ]
  },
  {
   "cell_type": "code",
   "execution_count": 5,
   "id": "c22fbf74",
   "metadata": {},
   "outputs": [],
   "source": [
    "train_set = pd.read_csv('../data/subtrain/train_1.tsv', sep='\\t')\n",
    "valid_set = pd.read_csv('../data/subtrain/valid_1.tsv', sep='\\t')\n",
    "\n",
    "x_train = train_set.drop(['record_number', 'target'],axis=1)\n",
    "y_train = train_set.target\n",
    "x_valid = valid_set.drop(['record_number', 'target'],axis=1)\n",
    "y_valid = valid_set.target\n",
    "\n",
    "dtrain = xgb.DMatrix(x_train, y_train)\n",
    "dtest = xgb.DMatrix(x_valid, y_valid)\n"
   ]
  },
  {
   "cell_type": "code",
   "execution_count": 8,
   "id": "3a6cf22a",
   "metadata": {},
   "outputs": [
    {
     "name": "stdout",
     "output_type": "stream",
     "text": [
      "[0]\ttest1-rmse:2.26280\ttest1-ebay_loss:0.77110\n",
      "[1]\ttest1-rmse:1.86021\ttest1-ebay_loss:0.44011\n",
      "[2]\ttest1-rmse:1.62544\ttest1-ebay_loss:0.39833\n",
      "[3]\ttest1-rmse:1.49547\ttest1-ebay_loss:0.37191\n",
      "[4]\ttest1-rmse:1.42634\ttest1-ebay_loss:0.36531\n",
      "[5]\ttest1-rmse:1.39068\ttest1-ebay_loss:0.37488\n",
      "[6]\ttest1-rmse:1.37194\ttest1-ebay_loss:0.38585\n"
     ]
    }
   ],
   "source": [
    "results = {}\n",
    "bst = xgb.train(params, dtrain, \n",
    "                    num_boost_round=num_rounds, \n",
    "                    evals=[(dtest, 'test1')], \n",
    "                    feval=custom_asymmetric_eval, \n",
    "                    evals_result=results,\n",
    "                    early_stopping_rounds=esr)"
   ]
  },
  {
   "cell_type": "code",
   "execution_count": 34,
   "id": "96a39dfb",
   "metadata": {},
   "outputs": [
    {
     "data": {
      "text/plain": [
       "124"
      ]
     },
     "execution_count": 34,
     "metadata": {},
     "output_type": "execute_result"
    },
    {
     "data": {
      "text/plain": [
       "2119"
      ]
     },
     "execution_count": 34,
     "metadata": {},
     "output_type": "execute_result"
    },
    {
     "data": {
      "text/plain": [
       "5887325"
      ]
     },
     "execution_count": 34,
     "metadata": {},
     "output_type": "execute_result"
    },
    {
     "data": {
      "text/plain": [
       "217"
      ]
     },
     "execution_count": 34,
     "metadata": {},
     "output_type": "execute_result"
    },
    {
     "data": {
      "text/plain": [
       "654165"
      ]
     },
     "execution_count": 34,
     "metadata": {},
     "output_type": "execute_result"
    },
    {
     "data": {
      "text/plain": [
       "<AxesSubplot:ylabel='Frequency'>"
      ]
     },
     "execution_count": 34,
     "metadata": {},
     "output_type": "execute_result"
    },
    {
     "data": {
      "image/png": "[encoded data removed]",
      "text/plain": [
       "<Figure size 432x288 with 1 Axes>"
      ]
     },
     "metadata": {
      "needs_background": "light"
     },
     "output_type": "display_data"
    }
   ],
   "source": [
    "#train_set['target'].plot.hist(bins=20)\n",
    "#valid_set['target'].plot.hist(bins=20)\n",
    "max(train_set['target'])\n",
    "\n",
    "\n",
    "train_set[train_set[\"target\"] >= 20].count()[\"target\"]\n",
    "train_set[train_set[\"target\"] < 20].count()[\"target\"]\n",
    "\n",
    "valid_set[valid_set[\"target\"] >= 20].count()[\"target\"]\n",
    "valid_set[valid_set[\"target\"] < 20].count()[\"target\"]\n",
    "\n",
    "\n",
    "log_train_y = np.log(train_set['target']+1)\n",
    "log_train_y.plot.hist(bins=30)"
   ]
  },
  {
   "cell_type": "markdown",
   "id": "d126c096",
   "metadata": {},
   "source": [
    "## Conclusion\n",
    "The max delivery date is 124, which is not too much a outlier..\n",
    "There are also many predictions over 20, so the model is also considering extreme long cases.   \n",
    "\n",
    "In general it doesnt make much sense to force predictions into some range, considering it's a tree model."
   ]
  }
 ],
 "metadata": {
  "kernelspec": {
   "display_name": "Python 3 (ipykernel)",
   "language": "python",
   "name": "python3"
  },
  "language_info": {
   "codemirror_mode": {
    "name": "ipython",
    "version": 3
   },
   "file_extension": ".py",
   "mimetype": "text/x-python",
   "name": "python",
   "nbconvert_exporter": "python",
   "pygments_lexer": "ipython3",
   "version": "3.9.7"
  }
 },
 "nbformat": 4,
 "nbformat_minor": 5
}
